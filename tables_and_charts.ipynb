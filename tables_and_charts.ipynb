{
 "cells": [
  {
   "cell_type": "markdown",
   "metadata": {},
   "source": [
    "**Aula 2 - Importação**"
   ]
  },
  {
   "cell_type": "code",
   "execution_count": 72,
   "metadata": {},
   "outputs": [],
   "source": [
    "import pandas as pd"
   ]
  },
  {
   "cell_type": "code",
   "execution_count": 73,
   "metadata": {},
   "outputs": [],
   "source": [
    "pd.options.display.float_format = '{:.2f}'.format"
   ]
  },
  {
   "cell_type": "code",
   "execution_count": 74,
   "metadata": {},
   "outputs": [
    {
     "data": {
      "text/html": [
       "<div>\n",
       "<style scoped>\n",
       "    .dataframe tbody tr th:only-of-type {\n",
       "        vertical-align: middle;\n",
       "    }\n",
       "\n",
       "    .dataframe tbody tr th {\n",
       "        vertical-align: top;\n",
       "    }\n",
       "\n",
       "    .dataframe thead th {\n",
       "        text-align: right;\n",
       "    }\n",
       "</style>\n",
       "<table border=\"1\" class=\"dataframe\">\n",
       "  <thead>\n",
       "    <tr style=\"text-align: right;\">\n",
       "      <th></th>\n",
       "      <th>Ativo</th>\n",
       "      <th>Data</th>\n",
       "      <th>Último (R$)</th>\n",
       "      <th>Var. Dia (%)</th>\n",
       "      <th>Var. Sem. (%)</th>\n",
       "      <th>Var. Mês (%)</th>\n",
       "      <th>Var. Ano (%)</th>\n",
       "      <th>Var. 12M (%)</th>\n",
       "      <th>Val. Mín</th>\n",
       "      <th>Val. Máx</th>\n",
       "      <th>...</th>\n",
       "      <th>Variação Mes R$</th>\n",
       "      <th>Resultado.2</th>\n",
       "      <th>Variação %</th>\n",
       "      <th>Valor Inicial Ano (R$)</th>\n",
       "      <th>Variação Ano R$</th>\n",
       "      <th>Resultado.3</th>\n",
       "      <th>Variaçao %.1</th>\n",
       "      <th>Valor Inicial 12M. (R$)</th>\n",
       "      <th>Variação 12M. R$</th>\n",
       "      <th>Resultado.4</th>\n",
       "    </tr>\n",
       "  </thead>\n",
       "  <tbody>\n",
       "    <tr>\n",
       "      <th>0</th>\n",
       "      <td>USIM5</td>\n",
       "      <td>45317</td>\n",
       "      <td>9.50</td>\n",
       "      <td>5.20</td>\n",
       "      <td>11.76</td>\n",
       "      <td>2.26</td>\n",
       "      <td>2.26</td>\n",
       "      <td>15.97</td>\n",
       "      <td>9.18</td>\n",
       "      <td>9.56</td>\n",
       "      <td>...</td>\n",
       "      <td>108151480.40</td>\n",
       "      <td>Subiu</td>\n",
       "      <td>0.02</td>\n",
       "      <td>9.29</td>\n",
       "      <td>108151480.40</td>\n",
       "      <td>Subiu</td>\n",
       "      <td>0.16</td>\n",
       "      <td>8.19</td>\n",
       "      <td>673890100.70</td>\n",
       "      <td>Subiu</td>\n",
       "    </tr>\n",
       "    <tr>\n",
       "      <th>1</th>\n",
       "      <td>CMIN3</td>\n",
       "      <td>45317</td>\n",
       "      <td>6.82</td>\n",
       "      <td>2.40</td>\n",
       "      <td>2.40</td>\n",
       "      <td>-12.11</td>\n",
       "      <td>-12.11</td>\n",
       "      <td>50.56</td>\n",
       "      <td>6.66</td>\n",
       "      <td>6.86</td>\n",
       "      <td>...</td>\n",
       "      <td>-1043592200.00</td>\n",
       "      <td>Desceu</td>\n",
       "      <td>-0.12</td>\n",
       "      <td>7.76</td>\n",
       "      <td>-1043592200.00</td>\n",
       "      <td>Desceu</td>\n",
       "      <td>0.51</td>\n",
       "      <td>4.53</td>\n",
       "      <td>2543452344.00</td>\n",
       "      <td>Subiu</td>\n",
       "    </tr>\n",
       "    <tr>\n",
       "      <th>2</th>\n",
       "      <td>PETR3</td>\n",
       "      <td>45317</td>\n",
       "      <td>41.96</td>\n",
       "      <td>2.19</td>\n",
       "      <td>7.73</td>\n",
       "      <td>7.64</td>\n",
       "      <td>7.64</td>\n",
       "      <td>77.55</td>\n",
       "      <td>40.81</td>\n",
       "      <td>42.34</td>\n",
       "      <td>...</td>\n",
       "      <td>7087772680.00</td>\n",
       "      <td>Subiu</td>\n",
       "      <td>0.08</td>\n",
       "      <td>38.98</td>\n",
       "      <td>7087772680.00</td>\n",
       "      <td>Subiu</td>\n",
       "      <td>0.78</td>\n",
       "      <td>23.63</td>\n",
       "      <td>43616542549.00</td>\n",
       "      <td>Subiu</td>\n",
       "    </tr>\n",
       "    <tr>\n",
       "      <th>3</th>\n",
       "      <td>SUZB3</td>\n",
       "      <td>45317</td>\n",
       "      <td>52.91</td>\n",
       "      <td>2.04</td>\n",
       "      <td>2.14</td>\n",
       "      <td>-4.89</td>\n",
       "      <td>-4.89</td>\n",
       "      <td>18.85</td>\n",
       "      <td>51.89</td>\n",
       "      <td>53.17</td>\n",
       "      <td>...</td>\n",
       "      <td>-1859212322.00</td>\n",
       "      <td>Desceu</td>\n",
       "      <td>-0.05</td>\n",
       "      <td>55.63</td>\n",
       "      <td>-1859212322.00</td>\n",
       "      <td>Desceu</td>\n",
       "      <td>0.19</td>\n",
       "      <td>44.52</td>\n",
       "      <td>5735330905.00</td>\n",
       "      <td>Subiu</td>\n",
       "    </tr>\n",
       "    <tr>\n",
       "      <th>4</th>\n",
       "      <td>CPFE3</td>\n",
       "      <td>45317</td>\n",
       "      <td>37.10</td>\n",
       "      <td>2.03</td>\n",
       "      <td>2.49</td>\n",
       "      <td>-3.66</td>\n",
       "      <td>-3.66</td>\n",
       "      <td>20.70</td>\n",
       "      <td>36.37</td>\n",
       "      <td>37.32</td>\n",
       "      <td>...</td>\n",
       "      <td>-264598820.90</td>\n",
       "      <td>Desceu</td>\n",
       "      <td>-0.04</td>\n",
       "      <td>38.51</td>\n",
       "      <td>-264598820.90</td>\n",
       "      <td>Desceu</td>\n",
       "      <td>0.21</td>\n",
       "      <td>30.74</td>\n",
       "      <td>1194473548.00</td>\n",
       "      <td>Subiu</td>\n",
       "    </tr>\n",
       "    <tr>\n",
       "      <th>...</th>\n",
       "      <td>...</td>\n",
       "      <td>...</td>\n",
       "      <td>...</td>\n",
       "      <td>...</td>\n",
       "      <td>...</td>\n",
       "      <td>...</td>\n",
       "      <td>...</td>\n",
       "      <td>...</td>\n",
       "      <td>...</td>\n",
       "      <td>...</td>\n",
       "      <td>...</td>\n",
       "      <td>...</td>\n",
       "      <td>...</td>\n",
       "      <td>...</td>\n",
       "      <td>...</td>\n",
       "      <td>...</td>\n",
       "      <td>...</td>\n",
       "      <td>...</td>\n",
       "      <td>...</td>\n",
       "      <td>...</td>\n",
       "      <td>...</td>\n",
       "    </tr>\n",
       "    <tr>\n",
       "      <th>76</th>\n",
       "      <td>CRFB3</td>\n",
       "      <td>45317</td>\n",
       "      <td>10.71</td>\n",
       "      <td>-2.45</td>\n",
       "      <td>-9.47</td>\n",
       "      <td>-13.98</td>\n",
       "      <td>-13.98</td>\n",
       "      <td>-32.72</td>\n",
       "      <td>10.70</td>\n",
       "      <td>11.08</td>\n",
       "      <td>...</td>\n",
       "      <td>-929460216.60</td>\n",
       "      <td>Desceu</td>\n",
       "      <td>-0.14</td>\n",
       "      <td>12.45</td>\n",
       "      <td>-929460216.60</td>\n",
       "      <td>Desceu</td>\n",
       "      <td>-0.33</td>\n",
       "      <td>15.92</td>\n",
       "      <td>-2781316323.00</td>\n",
       "      <td>Desceu</td>\n",
       "    </tr>\n",
       "    <tr>\n",
       "      <th>77</th>\n",
       "      <td>BHIA3</td>\n",
       "      <td>45317</td>\n",
       "      <td>8.70</td>\n",
       "      <td>-2.46</td>\n",
       "      <td>-6.95</td>\n",
       "      <td>-23.55</td>\n",
       "      <td>-23.55</td>\n",
       "      <td>-85.74</td>\n",
       "      <td>8.67</td>\n",
       "      <td>8.95</td>\n",
       "      <td>...</td>\n",
       "      <td>-254178125.40</td>\n",
       "      <td>Desceu</td>\n",
       "      <td>-0.24</td>\n",
       "      <td>11.38</td>\n",
       "      <td>-254178125.40</td>\n",
       "      <td>Desceu</td>\n",
       "      <td>-0.86</td>\n",
       "      <td>61.01</td>\n",
       "      <td>-4961222496.00</td>\n",
       "      <td>Desceu</td>\n",
       "    </tr>\n",
       "    <tr>\n",
       "      <th>78</th>\n",
       "      <td>RENT3</td>\n",
       "      <td>45317</td>\n",
       "      <td>56.24</td>\n",
       "      <td>-3.63</td>\n",
       "      <td>-6.41</td>\n",
       "      <td>-11.57</td>\n",
       "      <td>-11.57</td>\n",
       "      <td>-2.77</td>\n",
       "      <td>56.04</td>\n",
       "      <td>58.90</td>\n",
       "      <td>...</td>\n",
       "      <td>-6278141320.00</td>\n",
       "      <td>Desceu</td>\n",
       "      <td>-0.12</td>\n",
       "      <td>63.60</td>\n",
       "      <td>-6278141320.00</td>\n",
       "      <td>Desceu</td>\n",
       "      <td>-0.03</td>\n",
       "      <td>57.84</td>\n",
       "      <td>-1367026195.00</td>\n",
       "      <td>Desceu</td>\n",
       "    </tr>\n",
       "    <tr>\n",
       "      <th>79</th>\n",
       "      <td>CVCB3</td>\n",
       "      <td>45317</td>\n",
       "      <td>3.07</td>\n",
       "      <td>-4.36</td>\n",
       "      <td>-5.54</td>\n",
       "      <td>-12.29</td>\n",
       "      <td>-12.29</td>\n",
       "      <td>-36.83</td>\n",
       "      <td>3.05</td>\n",
       "      <td>3.23</td>\n",
       "      <td>...</td>\n",
       "      <td>-226090475.70</td>\n",
       "      <td>Desceu</td>\n",
       "      <td>-0.12</td>\n",
       "      <td>3.50</td>\n",
       "      <td>-226090475.70</td>\n",
       "      <td>Desceu</td>\n",
       "      <td>-0.37</td>\n",
       "      <td>4.86</td>\n",
       "      <td>-940741575.30</td>\n",
       "      <td>Desceu</td>\n",
       "    </tr>\n",
       "    <tr>\n",
       "      <th>80</th>\n",
       "      <td>GOLL4</td>\n",
       "      <td>45317</td>\n",
       "      <td>5.92</td>\n",
       "      <td>-8.07</td>\n",
       "      <td>-15.91</td>\n",
       "      <td>-34.00</td>\n",
       "      <td>-34.00</td>\n",
       "      <td>-25.44</td>\n",
       "      <td>5.51</td>\n",
       "      <td>6.02</td>\n",
       "      <td>...</td>\n",
       "      <td>-604403916.40</td>\n",
       "      <td>Desceu</td>\n",
       "      <td>-0.34</td>\n",
       "      <td>8.97</td>\n",
       "      <td>-604403916.40</td>\n",
       "      <td>Desceu</td>\n",
       "      <td>-0.25</td>\n",
       "      <td>7.94</td>\n",
       "      <td>-400316504.60</td>\n",
       "      <td>Desceu</td>\n",
       "    </tr>\n",
       "  </tbody>\n",
       "</table>\n",
       "<p>81 rows × 36 columns</p>\n",
       "</div>"
      ],
      "text/plain": [
       "    Ativo   Data  Último (R$)  Var. Dia (%)  Var. Sem. (%)  Var. Mês (%)  \\\n",
       "0   USIM5  45317         9.50          5.20          11.76          2.26   \n",
       "1   CMIN3  45317         6.82          2.40           2.40        -12.11   \n",
       "2   PETR3  45317        41.96          2.19           7.73          7.64   \n",
       "3   SUZB3  45317        52.91          2.04           2.14         -4.89   \n",
       "4   CPFE3  45317        37.10          2.03           2.49         -3.66   \n",
       "..    ...    ...          ...           ...            ...           ...   \n",
       "76  CRFB3  45317        10.71         -2.45          -9.47        -13.98   \n",
       "77  BHIA3  45317         8.70         -2.46          -6.95        -23.55   \n",
       "78  RENT3  45317        56.24         -3.63          -6.41        -11.57   \n",
       "79  CVCB3  45317         3.07         -4.36          -5.54        -12.29   \n",
       "80  GOLL4  45317         5.92         -8.07         -15.91        -34.00   \n",
       "\n",
       "    Var. Ano (%)  Var. 12M (%)  Val. Mín  Val. Máx  ... Variação Mes R$  \\\n",
       "0           2.26         15.97      9.18      9.56  ...    108151480.40   \n",
       "1         -12.11         50.56      6.66      6.86  ...  -1043592200.00   \n",
       "2           7.64         77.55     40.81     42.34  ...   7087772680.00   \n",
       "3          -4.89         18.85     51.89     53.17  ...  -1859212322.00   \n",
       "4          -3.66         20.70     36.37     37.32  ...   -264598820.90   \n",
       "..           ...           ...       ...       ...  ...             ...   \n",
       "76        -13.98        -32.72     10.70     11.08  ...   -929460216.60   \n",
       "77        -23.55        -85.74      8.67      8.95  ...   -254178125.40   \n",
       "78        -11.57         -2.77     56.04     58.90  ...  -6278141320.00   \n",
       "79        -12.29        -36.83      3.05      3.23  ...   -226090475.70   \n",
       "80        -34.00        -25.44      5.51      6.02  ...   -604403916.40   \n",
       "\n",
       "    Resultado.2  Variação %  Valor Inicial Ano (R$)  Variação Ano R$  \\\n",
       "0         Subiu        0.02                    9.29     108151480.40   \n",
       "1        Desceu       -0.12                    7.76   -1043592200.00   \n",
       "2         Subiu        0.08                   38.98    7087772680.00   \n",
       "3        Desceu       -0.05                   55.63   -1859212322.00   \n",
       "4        Desceu       -0.04                   38.51    -264598820.90   \n",
       "..          ...         ...                     ...              ...   \n",
       "76       Desceu       -0.14                   12.45    -929460216.60   \n",
       "77       Desceu       -0.24                   11.38    -254178125.40   \n",
       "78       Desceu       -0.12                   63.60   -6278141320.00   \n",
       "79       Desceu       -0.12                    3.50    -226090475.70   \n",
       "80       Desceu       -0.34                    8.97    -604403916.40   \n",
       "\n",
       "   Resultado.3 Variaçao %.1 Valor Inicial 12M. (R$)  Variação 12M. R$  \\\n",
       "0        Subiu         0.16                    8.19      673890100.70   \n",
       "1       Desceu         0.51                    4.53     2543452344.00   \n",
       "2        Subiu         0.78                   23.63    43616542549.00   \n",
       "3       Desceu         0.19                   44.52     5735330905.00   \n",
       "4       Desceu         0.21                   30.74     1194473548.00   \n",
       "..         ...          ...                     ...               ...   \n",
       "76      Desceu        -0.33                   15.92    -2781316323.00   \n",
       "77      Desceu        -0.86                   61.01    -4961222496.00   \n",
       "78      Desceu        -0.03                   57.84    -1367026195.00   \n",
       "79      Desceu        -0.37                    4.86     -940741575.30   \n",
       "80      Desceu        -0.25                    7.94     -400316504.60   \n",
       "\n",
       "   Resultado.4  \n",
       "0        Subiu  \n",
       "1        Subiu  \n",
       "2        Subiu  \n",
       "3        Subiu  \n",
       "4        Subiu  \n",
       "..         ...  \n",
       "76      Desceu  \n",
       "77      Desceu  \n",
       "78      Desceu  \n",
       "79      Desceu  \n",
       "80      Desceu  \n",
       "\n",
       "[81 rows x 36 columns]"
      ]
     },
     "execution_count": 74,
     "metadata": {},
     "output_type": "execute_result"
    }
   ],
   "source": [
    "# Data Frame Principal\n",
    "df_principal = pd.read_excel(\"acoes_analises.xlsx\", sheet_name=\"Principal\")\n",
    "df_principal"
   ]
  },
  {
   "cell_type": "code",
   "execution_count": 75,
   "metadata": {},
   "outputs": [
    {
     "data": {
      "text/html": [
       "<div>\n",
       "<style scoped>\n",
       "    .dataframe tbody tr th:only-of-type {\n",
       "        vertical-align: middle;\n",
       "    }\n",
       "\n",
       "    .dataframe tbody tr th {\n",
       "        vertical-align: top;\n",
       "    }\n",
       "\n",
       "    .dataframe thead th {\n",
       "        text-align: right;\n",
       "    }\n",
       "</style>\n",
       "<table border=\"1\" class=\"dataframe\">\n",
       "  <thead>\n",
       "    <tr style=\"text-align: right;\">\n",
       "      <th></th>\n",
       "      <th>Código</th>\n",
       "      <th>Qtde. Teórica</th>\n",
       "    </tr>\n",
       "  </thead>\n",
       "  <tbody>\n",
       "    <tr>\n",
       "      <th>0</th>\n",
       "      <td>RRRP3</td>\n",
       "      <td>235665566.00</td>\n",
       "    </tr>\n",
       "    <tr>\n",
       "      <th>1</th>\n",
       "      <td>ALOS3</td>\n",
       "      <td>532616595.00</td>\n",
       "    </tr>\n",
       "    <tr>\n",
       "      <th>2</th>\n",
       "      <td>ALPA4</td>\n",
       "      <td>176733968.00</td>\n",
       "    </tr>\n",
       "    <tr>\n",
       "      <th>3</th>\n",
       "      <td>ABEV3</td>\n",
       "      <td>4394245879.00</td>\n",
       "    </tr>\n",
       "    <tr>\n",
       "      <th>4</th>\n",
       "      <td>ARZZ3</td>\n",
       "      <td>62305891.00</td>\n",
       "    </tr>\n",
       "    <tr>\n",
       "      <th>...</th>\n",
       "      <td>...</td>\n",
       "      <td>...</td>\n",
       "    </tr>\n",
       "    <tr>\n",
       "      <th>84</th>\n",
       "      <td>VBBR3</td>\n",
       "      <td>1114412532.00</td>\n",
       "    </tr>\n",
       "    <tr>\n",
       "      <th>85</th>\n",
       "      <td>WEGE3</td>\n",
       "      <td>1481593024.00</td>\n",
       "    </tr>\n",
       "    <tr>\n",
       "      <th>86</th>\n",
       "      <td>YDUQ3</td>\n",
       "      <td>289347914.00</td>\n",
       "    </tr>\n",
       "    <tr>\n",
       "      <th>87</th>\n",
       "      <td>Quantidade Teórica Total</td>\n",
       "      <td>96372098181.00</td>\n",
       "    </tr>\n",
       "    <tr>\n",
       "      <th>88</th>\n",
       "      <td>Redutor</td>\n",
       "      <td>17047850.79</td>\n",
       "    </tr>\n",
       "  </tbody>\n",
       "</table>\n",
       "<p>89 rows × 2 columns</p>\n",
       "</div>"
      ],
      "text/plain": [
       "                      Código  Qtde. Teórica\n",
       "0                      RRRP3   235665566.00\n",
       "1                      ALOS3   532616595.00\n",
       "2                      ALPA4   176733968.00\n",
       "3                      ABEV3  4394245879.00\n",
       "4                      ARZZ3    62305891.00\n",
       "..                       ...            ...\n",
       "84                     VBBR3  1114412532.00\n",
       "85                     WEGE3  1481593024.00\n",
       "86                     YDUQ3   289347914.00\n",
       "87  Quantidade Teórica Total 96372098181.00\n",
       "88                   Redutor    17047850.79\n",
       "\n",
       "[89 rows x 2 columns]"
      ]
     },
     "execution_count": 75,
     "metadata": {},
     "output_type": "execute_result"
    }
   ],
   "source": [
    "# Data Frame Total de Acoes\n",
    "df_total_acoes = pd.read_excel(\"acoes_analises.xlsx\", sheet_name=\"Total_de_acoes\")\n",
    "df_total_acoes"
   ]
  },
  {
   "cell_type": "code",
   "execution_count": 76,
   "metadata": {},
   "outputs": [
    {
     "data": {
      "text/html": [
       "<div>\n",
       "<style scoped>\n",
       "    .dataframe tbody tr th:only-of-type {\n",
       "        vertical-align: middle;\n",
       "    }\n",
       "\n",
       "    .dataframe tbody tr th {\n",
       "        vertical-align: top;\n",
       "    }\n",
       "\n",
       "    .dataframe thead th {\n",
       "        text-align: right;\n",
       "    }\n",
       "</style>\n",
       "<table border=\"1\" class=\"dataframe\">\n",
       "  <thead>\n",
       "    <tr style=\"text-align: right;\">\n",
       "      <th></th>\n",
       "      <th>Ticker</th>\n",
       "      <th>Nome</th>\n",
       "    </tr>\n",
       "  </thead>\n",
       "  <tbody>\n",
       "    <tr>\n",
       "      <th>0</th>\n",
       "      <td>MGLU3</td>\n",
       "      <td>Magazine Luiza</td>\n",
       "    </tr>\n",
       "    <tr>\n",
       "      <th>1</th>\n",
       "      <td>HAPV3</td>\n",
       "      <td>Hapvida</td>\n",
       "    </tr>\n",
       "    <tr>\n",
       "      <th>2</th>\n",
       "      <td>PETR4</td>\n",
       "      <td>Petrobras</td>\n",
       "    </tr>\n",
       "    <tr>\n",
       "      <th>3</th>\n",
       "      <td>B3SA3</td>\n",
       "      <td>B3</td>\n",
       "    </tr>\n",
       "    <tr>\n",
       "      <th>4</th>\n",
       "      <td>USIM5</td>\n",
       "      <td>Usiminas</td>\n",
       "    </tr>\n",
       "    <tr>\n",
       "      <th>...</th>\n",
       "      <td>...</td>\n",
       "      <td>...</td>\n",
       "    </tr>\n",
       "    <tr>\n",
       "      <th>530</th>\n",
       "      <td>TKNO3</td>\n",
       "      <td>Tekno</td>\n",
       "    </tr>\n",
       "    <tr>\n",
       "      <th>531</th>\n",
       "      <td>COCE6</td>\n",
       "      <td>Coelce</td>\n",
       "    </tr>\n",
       "    <tr>\n",
       "      <th>532</th>\n",
       "      <td>MGEL3</td>\n",
       "      <td>Mangels</td>\n",
       "    </tr>\n",
       "    <tr>\n",
       "      <th>533</th>\n",
       "      <td>CTSA8</td>\n",
       "      <td>Santanense</td>\n",
       "    </tr>\n",
       "    <tr>\n",
       "      <th>534</th>\n",
       "      <td>MMAQ4</td>\n",
       "      <td>Minasmáquinas</td>\n",
       "    </tr>\n",
       "  </tbody>\n",
       "</table>\n",
       "<p>535 rows × 2 columns</p>\n",
       "</div>"
      ],
      "text/plain": [
       "    Ticker            Nome\n",
       "0    MGLU3  Magazine Luiza\n",
       "1    HAPV3         Hapvida\n",
       "2    PETR4       Petrobras\n",
       "3    B3SA3              B3\n",
       "4    USIM5        Usiminas\n",
       "..     ...             ...\n",
       "530  TKNO3           Tekno\n",
       "531  COCE6          Coelce\n",
       "532  MGEL3         Mangels\n",
       "533  CTSA8      Santanense\n",
       "534  MMAQ4   Minasmáquinas\n",
       "\n",
       "[535 rows x 2 columns]"
      ]
     },
     "execution_count": 76,
     "metadata": {},
     "output_type": "execute_result"
    }
   ],
   "source": [
    "# Data Frame Ticker\n",
    "df_ticker = pd.read_excel(\"acoes_analises.xlsx\", sheet_name=\"Ticker\")\n",
    "df_ticker"
   ]
  },
  {
   "cell_type": "code",
   "execution_count": 77,
   "metadata": {},
   "outputs": [
    {
     "data": {
      "text/html": [
       "<div>\n",
       "<style scoped>\n",
       "    .dataframe tbody tr th:only-of-type {\n",
       "        vertical-align: middle;\n",
       "    }\n",
       "\n",
       "    .dataframe tbody tr th {\n",
       "        vertical-align: top;\n",
       "    }\n",
       "\n",
       "    .dataframe thead th {\n",
       "        text-align: right;\n",
       "    }\n",
       "</style>\n",
       "<table border=\"1\" class=\"dataframe\">\n",
       "  <thead>\n",
       "    <tr style=\"text-align: right;\">\n",
       "      <th></th>\n",
       "      <th>Nome da Empresa</th>\n",
       "      <th>Segmento</th>\n",
       "      <th>Idade em Anos</th>\n",
       "    </tr>\n",
       "  </thead>\n",
       "  <tbody>\n",
       "    <tr>\n",
       "      <th>0</th>\n",
       "      <td>Usiminas</td>\n",
       "      <td>Siderurgia</td>\n",
       "      <td>59</td>\n",
       "    </tr>\n",
       "    <tr>\n",
       "      <th>1</th>\n",
       "      <td>CSN Mineração</td>\n",
       "      <td>Mineração</td>\n",
       "      <td>0</td>\n",
       "    </tr>\n",
       "    <tr>\n",
       "      <th>2</th>\n",
       "      <td>Petrobras</td>\n",
       "      <td>Petróleo</td>\n",
       "      <td>69</td>\n",
       "    </tr>\n",
       "    <tr>\n",
       "      <th>3</th>\n",
       "      <td>Suzano</td>\n",
       "      <td>Papel e Celulose</td>\n",
       "      <td>97</td>\n",
       "    </tr>\n",
       "    <tr>\n",
       "      <th>4</th>\n",
       "      <td>CPFL Energia</td>\n",
       "      <td>Energia Elétrica</td>\n",
       "      <td>108</td>\n",
       "    </tr>\n",
       "    <tr>\n",
       "      <th>...</th>\n",
       "      <td>...</td>\n",
       "      <td>...</td>\n",
       "      <td>...</td>\n",
       "    </tr>\n",
       "    <tr>\n",
       "      <th>75</th>\n",
       "      <td>Carrefour Brasil</td>\n",
       "      <td>Varejo</td>\n",
       "      <td>47</td>\n",
       "    </tr>\n",
       "    <tr>\n",
       "      <th>76</th>\n",
       "      <td>Casas Bahia</td>\n",
       "      <td>Varejo</td>\n",
       "      <td>67</td>\n",
       "    </tr>\n",
       "    <tr>\n",
       "      <th>77</th>\n",
       "      <td>Localiza</td>\n",
       "      <td>Aluguel de Carros</td>\n",
       "      <td>48</td>\n",
       "    </tr>\n",
       "    <tr>\n",
       "      <th>78</th>\n",
       "      <td>CVC</td>\n",
       "      <td>Turismo</td>\n",
       "      <td>49</td>\n",
       "    </tr>\n",
       "    <tr>\n",
       "      <th>79</th>\n",
       "      <td>GOL</td>\n",
       "      <td>Transporte Aéreo</td>\n",
       "      <td>20</td>\n",
       "    </tr>\n",
       "  </tbody>\n",
       "</table>\n",
       "<p>80 rows × 3 columns</p>\n",
       "</div>"
      ],
      "text/plain": [
       "     Nome da Empresa           Segmento  Idade em Anos\n",
       "0           Usiminas         Siderurgia             59\n",
       "1      CSN Mineração          Mineração              0\n",
       "2          Petrobras           Petróleo             69\n",
       "3             Suzano   Papel e Celulose             97\n",
       "4       CPFL Energia   Energia Elétrica            108\n",
       "..               ...                ...            ...\n",
       "75  Carrefour Brasil             Varejo             47\n",
       "76       Casas Bahia             Varejo             67\n",
       "77          Localiza  Aluguel de Carros             48\n",
       "78               CVC            Turismo             49\n",
       "79               GOL   Transporte Aéreo             20\n",
       "\n",
       "[80 rows x 3 columns]"
      ]
     },
     "execution_count": 77,
     "metadata": {},
     "output_type": "execute_result"
    }
   ],
   "source": [
    "# Data Frame ChatGPT\n",
    "df_chatgpt = pd.read_excel(\"acoes_analises.xlsx\", sheet_name=\"Chat GPT\")\n",
    "df_chatgpt"
   ]
  },
  {
   "cell_type": "markdown",
   "metadata": {},
   "source": [
    "**Aula 3 - Manipulação e Análises**"
   ]
  },
  {
   "cell_type": "code",
   "execution_count": 78,
   "metadata": {},
   "outputs": [
    {
     "data": {
      "text/html": [
       "<div>\n",
       "<style scoped>\n",
       "    .dataframe tbody tr th:only-of-type {\n",
       "        vertical-align: middle;\n",
       "    }\n",
       "\n",
       "    .dataframe tbody tr th {\n",
       "        vertical-align: top;\n",
       "    }\n",
       "\n",
       "    .dataframe thead th {\n",
       "        text-align: right;\n",
       "    }\n",
       "</style>\n",
       "<table border=\"1\" class=\"dataframe\">\n",
       "  <thead>\n",
       "    <tr style=\"text-align: right;\">\n",
       "      <th></th>\n",
       "      <th>Ativo</th>\n",
       "      <th>Data</th>\n",
       "      <th>Último (R$)</th>\n",
       "      <th>Var. Dia (%)</th>\n",
       "    </tr>\n",
       "  </thead>\n",
       "  <tbody>\n",
       "    <tr>\n",
       "      <th>0</th>\n",
       "      <td>USIM5</td>\n",
       "      <td>45317</td>\n",
       "      <td>9.50</td>\n",
       "      <td>5.20</td>\n",
       "    </tr>\n",
       "    <tr>\n",
       "      <th>1</th>\n",
       "      <td>CMIN3</td>\n",
       "      <td>45317</td>\n",
       "      <td>6.82</td>\n",
       "      <td>2.40</td>\n",
       "    </tr>\n",
       "    <tr>\n",
       "      <th>2</th>\n",
       "      <td>PETR3</td>\n",
       "      <td>45317</td>\n",
       "      <td>41.96</td>\n",
       "      <td>2.19</td>\n",
       "    </tr>\n",
       "    <tr>\n",
       "      <th>3</th>\n",
       "      <td>SUZB3</td>\n",
       "      <td>45317</td>\n",
       "      <td>52.91</td>\n",
       "      <td>2.04</td>\n",
       "    </tr>\n",
       "    <tr>\n",
       "      <th>4</th>\n",
       "      <td>CPFE3</td>\n",
       "      <td>45317</td>\n",
       "      <td>37.10</td>\n",
       "      <td>2.03</td>\n",
       "    </tr>\n",
       "    <tr>\n",
       "      <th>...</th>\n",
       "      <td>...</td>\n",
       "      <td>...</td>\n",
       "      <td>...</td>\n",
       "      <td>...</td>\n",
       "    </tr>\n",
       "    <tr>\n",
       "      <th>76</th>\n",
       "      <td>CRFB3</td>\n",
       "      <td>45317</td>\n",
       "      <td>10.71</td>\n",
       "      <td>-2.45</td>\n",
       "    </tr>\n",
       "    <tr>\n",
       "      <th>77</th>\n",
       "      <td>BHIA3</td>\n",
       "      <td>45317</td>\n",
       "      <td>8.70</td>\n",
       "      <td>-2.46</td>\n",
       "    </tr>\n",
       "    <tr>\n",
       "      <th>78</th>\n",
       "      <td>RENT3</td>\n",
       "      <td>45317</td>\n",
       "      <td>56.24</td>\n",
       "      <td>-3.63</td>\n",
       "    </tr>\n",
       "    <tr>\n",
       "      <th>79</th>\n",
       "      <td>CVCB3</td>\n",
       "      <td>45317</td>\n",
       "      <td>3.07</td>\n",
       "      <td>-4.36</td>\n",
       "    </tr>\n",
       "    <tr>\n",
       "      <th>80</th>\n",
       "      <td>GOLL4</td>\n",
       "      <td>45317</td>\n",
       "      <td>5.92</td>\n",
       "      <td>-8.07</td>\n",
       "    </tr>\n",
       "  </tbody>\n",
       "</table>\n",
       "<p>81 rows × 4 columns</p>\n",
       "</div>"
      ],
      "text/plain": [
       "    Ativo   Data  Último (R$)  Var. Dia (%)\n",
       "0   USIM5  45317         9.50          5.20\n",
       "1   CMIN3  45317         6.82          2.40\n",
       "2   PETR3  45317        41.96          2.19\n",
       "3   SUZB3  45317        52.91          2.04\n",
       "4   CPFE3  45317        37.10          2.03\n",
       "..    ...    ...          ...           ...\n",
       "76  CRFB3  45317        10.71         -2.45\n",
       "77  BHIA3  45317         8.70         -2.46\n",
       "78  RENT3  45317        56.24         -3.63\n",
       "79  CVCB3  45317         3.07         -4.36\n",
       "80  GOLL4  45317         5.92         -8.07\n",
       "\n",
       "[81 rows x 4 columns]"
      ]
     },
     "execution_count": 78,
     "metadata": {},
     "output_type": "execute_result"
    }
   ],
   "source": [
    "df_principal = df_principal[['Ativo', 'Data', 'Último (R$)', 'Var. Dia (%)']].copy()\n",
    "df_principal"
   ]
  },
  {
   "cell_type": "code",
   "execution_count": 79,
   "metadata": {},
   "outputs": [
    {
     "data": {
      "text/html": [
       "<div>\n",
       "<style scoped>\n",
       "    .dataframe tbody tr th:only-of-type {\n",
       "        vertical-align: middle;\n",
       "    }\n",
       "\n",
       "    .dataframe tbody tr th {\n",
       "        vertical-align: top;\n",
       "    }\n",
       "\n",
       "    .dataframe thead th {\n",
       "        text-align: right;\n",
       "    }\n",
       "</style>\n",
       "<table border=\"1\" class=\"dataframe\">\n",
       "  <thead>\n",
       "    <tr style=\"text-align: right;\">\n",
       "      <th></th>\n",
       "      <th>Ativo</th>\n",
       "      <th>Data</th>\n",
       "      <th>valor_final</th>\n",
       "      <th>var_dia_pct</th>\n",
       "    </tr>\n",
       "  </thead>\n",
       "  <tbody>\n",
       "    <tr>\n",
       "      <th>0</th>\n",
       "      <td>USIM5</td>\n",
       "      <td>45317</td>\n",
       "      <td>9.50</td>\n",
       "      <td>5.20</td>\n",
       "    </tr>\n",
       "    <tr>\n",
       "      <th>1</th>\n",
       "      <td>CMIN3</td>\n",
       "      <td>45317</td>\n",
       "      <td>6.82</td>\n",
       "      <td>2.40</td>\n",
       "    </tr>\n",
       "    <tr>\n",
       "      <th>2</th>\n",
       "      <td>PETR3</td>\n",
       "      <td>45317</td>\n",
       "      <td>41.96</td>\n",
       "      <td>2.19</td>\n",
       "    </tr>\n",
       "    <tr>\n",
       "      <th>3</th>\n",
       "      <td>SUZB3</td>\n",
       "      <td>45317</td>\n",
       "      <td>52.91</td>\n",
       "      <td>2.04</td>\n",
       "    </tr>\n",
       "    <tr>\n",
       "      <th>4</th>\n",
       "      <td>CPFE3</td>\n",
       "      <td>45317</td>\n",
       "      <td>37.10</td>\n",
       "      <td>2.03</td>\n",
       "    </tr>\n",
       "    <tr>\n",
       "      <th>...</th>\n",
       "      <td>...</td>\n",
       "      <td>...</td>\n",
       "      <td>...</td>\n",
       "      <td>...</td>\n",
       "    </tr>\n",
       "    <tr>\n",
       "      <th>76</th>\n",
       "      <td>CRFB3</td>\n",
       "      <td>45317</td>\n",
       "      <td>10.71</td>\n",
       "      <td>-2.45</td>\n",
       "    </tr>\n",
       "    <tr>\n",
       "      <th>77</th>\n",
       "      <td>BHIA3</td>\n",
       "      <td>45317</td>\n",
       "      <td>8.70</td>\n",
       "      <td>-2.46</td>\n",
       "    </tr>\n",
       "    <tr>\n",
       "      <th>78</th>\n",
       "      <td>RENT3</td>\n",
       "      <td>45317</td>\n",
       "      <td>56.24</td>\n",
       "      <td>-3.63</td>\n",
       "    </tr>\n",
       "    <tr>\n",
       "      <th>79</th>\n",
       "      <td>CVCB3</td>\n",
       "      <td>45317</td>\n",
       "      <td>3.07</td>\n",
       "      <td>-4.36</td>\n",
       "    </tr>\n",
       "    <tr>\n",
       "      <th>80</th>\n",
       "      <td>GOLL4</td>\n",
       "      <td>45317</td>\n",
       "      <td>5.92</td>\n",
       "      <td>-8.07</td>\n",
       "    </tr>\n",
       "  </tbody>\n",
       "</table>\n",
       "<p>81 rows × 4 columns</p>\n",
       "</div>"
      ],
      "text/plain": [
       "    Ativo   Data  valor_final  var_dia_pct\n",
       "0   USIM5  45317         9.50         5.20\n",
       "1   CMIN3  45317         6.82         2.40\n",
       "2   PETR3  45317        41.96         2.19\n",
       "3   SUZB3  45317        52.91         2.04\n",
       "4   CPFE3  45317        37.10         2.03\n",
       "..    ...    ...          ...          ...\n",
       "76  CRFB3  45317        10.71        -2.45\n",
       "77  BHIA3  45317         8.70        -2.46\n",
       "78  RENT3  45317        56.24        -3.63\n",
       "79  CVCB3  45317         3.07        -4.36\n",
       "80  GOLL4  45317         5.92        -8.07\n",
       "\n",
       "[81 rows x 4 columns]"
      ]
     },
     "execution_count": 79,
     "metadata": {},
     "output_type": "execute_result"
    }
   ],
   "source": [
    "df_principal = df_principal.rename(columns={'Último (R$)':'valor_final', 'Var. Dia (%)':'var_dia_pct'}).copy()\n",
    "df_principal"
   ]
  },
  {
   "cell_type": "code",
   "execution_count": 80,
   "metadata": {},
   "outputs": [
    {
     "data": {
      "text/html": [
       "<div>\n",
       "<style scoped>\n",
       "    .dataframe tbody tr th:only-of-type {\n",
       "        vertical-align: middle;\n",
       "    }\n",
       "\n",
       "    .dataframe tbody tr th {\n",
       "        vertical-align: top;\n",
       "    }\n",
       "\n",
       "    .dataframe thead th {\n",
       "        text-align: right;\n",
       "    }\n",
       "</style>\n",
       "<table border=\"1\" class=\"dataframe\">\n",
       "  <thead>\n",
       "    <tr style=\"text-align: right;\">\n",
       "      <th></th>\n",
       "      <th>Ativo</th>\n",
       "      <th>Data</th>\n",
       "      <th>valor_final</th>\n",
       "      <th>var_dia_pct</th>\n",
       "      <th>var_pct</th>\n",
       "      <th>var_inicial</th>\n",
       "    </tr>\n",
       "  </thead>\n",
       "  <tbody>\n",
       "    <tr>\n",
       "      <th>0</th>\n",
       "      <td>USIM5</td>\n",
       "      <td>45317</td>\n",
       "      <td>9.50</td>\n",
       "      <td>5.20</td>\n",
       "      <td>0.05</td>\n",
       "      <td>9.03</td>\n",
       "    </tr>\n",
       "    <tr>\n",
       "      <th>1</th>\n",
       "      <td>CMIN3</td>\n",
       "      <td>45317</td>\n",
       "      <td>6.82</td>\n",
       "      <td>2.40</td>\n",
       "      <td>0.02</td>\n",
       "      <td>6.66</td>\n",
       "    </tr>\n",
       "    <tr>\n",
       "      <th>2</th>\n",
       "      <td>PETR3</td>\n",
       "      <td>45317</td>\n",
       "      <td>41.96</td>\n",
       "      <td>2.19</td>\n",
       "      <td>0.02</td>\n",
       "      <td>41.06</td>\n",
       "    </tr>\n",
       "    <tr>\n",
       "      <th>3</th>\n",
       "      <td>SUZB3</td>\n",
       "      <td>45317</td>\n",
       "      <td>52.91</td>\n",
       "      <td>2.04</td>\n",
       "      <td>0.02</td>\n",
       "      <td>51.85</td>\n",
       "    </tr>\n",
       "    <tr>\n",
       "      <th>4</th>\n",
       "      <td>CPFE3</td>\n",
       "      <td>45317</td>\n",
       "      <td>37.10</td>\n",
       "      <td>2.03</td>\n",
       "      <td>0.02</td>\n",
       "      <td>36.36</td>\n",
       "    </tr>\n",
       "    <tr>\n",
       "      <th>...</th>\n",
       "      <td>...</td>\n",
       "      <td>...</td>\n",
       "      <td>...</td>\n",
       "      <td>...</td>\n",
       "      <td>...</td>\n",
       "      <td>...</td>\n",
       "    </tr>\n",
       "    <tr>\n",
       "      <th>76</th>\n",
       "      <td>CRFB3</td>\n",
       "      <td>45317</td>\n",
       "      <td>10.71</td>\n",
       "      <td>-2.45</td>\n",
       "      <td>-0.02</td>\n",
       "      <td>10.98</td>\n",
       "    </tr>\n",
       "    <tr>\n",
       "      <th>77</th>\n",
       "      <td>BHIA3</td>\n",
       "      <td>45317</td>\n",
       "      <td>8.70</td>\n",
       "      <td>-2.46</td>\n",
       "      <td>-0.02</td>\n",
       "      <td>8.92</td>\n",
       "    </tr>\n",
       "    <tr>\n",
       "      <th>78</th>\n",
       "      <td>RENT3</td>\n",
       "      <td>45317</td>\n",
       "      <td>56.24</td>\n",
       "      <td>-3.63</td>\n",
       "      <td>-0.04</td>\n",
       "      <td>58.36</td>\n",
       "    </tr>\n",
       "    <tr>\n",
       "      <th>79</th>\n",
       "      <td>CVCB3</td>\n",
       "      <td>45317</td>\n",
       "      <td>3.07</td>\n",
       "      <td>-4.36</td>\n",
       "      <td>-0.04</td>\n",
       "      <td>3.21</td>\n",
       "    </tr>\n",
       "    <tr>\n",
       "      <th>80</th>\n",
       "      <td>GOLL4</td>\n",
       "      <td>45317</td>\n",
       "      <td>5.92</td>\n",
       "      <td>-8.07</td>\n",
       "      <td>-0.08</td>\n",
       "      <td>6.44</td>\n",
       "    </tr>\n",
       "  </tbody>\n",
       "</table>\n",
       "<p>81 rows × 6 columns</p>\n",
       "</div>"
      ],
      "text/plain": [
       "    Ativo   Data  valor_final  var_dia_pct  var_pct  var_inicial\n",
       "0   USIM5  45317         9.50         5.20     0.05         9.03\n",
       "1   CMIN3  45317         6.82         2.40     0.02         6.66\n",
       "2   PETR3  45317        41.96         2.19     0.02        41.06\n",
       "3   SUZB3  45317        52.91         2.04     0.02        51.85\n",
       "4   CPFE3  45317        37.10         2.03     0.02        36.36\n",
       "..    ...    ...          ...          ...      ...          ...\n",
       "76  CRFB3  45317        10.71        -2.45    -0.02        10.98\n",
       "77  BHIA3  45317         8.70        -2.46    -0.02         8.92\n",
       "78  RENT3  45317        56.24        -3.63    -0.04        58.36\n",
       "79  CVCB3  45317         3.07        -4.36    -0.04         3.21\n",
       "80  GOLL4  45317         5.92        -8.07    -0.08         6.44\n",
       "\n",
       "[81 rows x 6 columns]"
      ]
     },
     "execution_count": 80,
     "metadata": {},
     "output_type": "execute_result"
    }
   ],
   "source": [
    "df_principal['var_pct'] = df_principal['var_dia_pct'] / 100\n",
    "df_principal['var_inicial'] = df_principal['valor_final'] / (1 + df_principal['var_pct'])\n",
    "df_principal"
   ]
  },
  {
   "cell_type": "code",
   "execution_count": 81,
   "metadata": {},
   "outputs": [
    {
     "data": {
      "text/html": [
       "<div>\n",
       "<style scoped>\n",
       "    .dataframe tbody tr th:only-of-type {\n",
       "        vertical-align: middle;\n",
       "    }\n",
       "\n",
       "    .dataframe tbody tr th {\n",
       "        vertical-align: top;\n",
       "    }\n",
       "\n",
       "    .dataframe thead th {\n",
       "        text-align: right;\n",
       "    }\n",
       "</style>\n",
       "<table border=\"1\" class=\"dataframe\">\n",
       "  <thead>\n",
       "    <tr style=\"text-align: right;\">\n",
       "      <th></th>\n",
       "      <th>Ativo</th>\n",
       "      <th>Data</th>\n",
       "      <th>valor_final</th>\n",
       "      <th>var_dia_pct</th>\n",
       "      <th>var_pct</th>\n",
       "      <th>var_inicial</th>\n",
       "      <th>Código</th>\n",
       "      <th>Qtde. Teórica</th>\n",
       "    </tr>\n",
       "  </thead>\n",
       "  <tbody>\n",
       "    <tr>\n",
       "      <th>0</th>\n",
       "      <td>USIM5</td>\n",
       "      <td>45317</td>\n",
       "      <td>9.50</td>\n",
       "      <td>5.20</td>\n",
       "      <td>0.05</td>\n",
       "      <td>9.03</td>\n",
       "      <td>USIM5</td>\n",
       "      <td>515117391.00</td>\n",
       "    </tr>\n",
       "    <tr>\n",
       "      <th>1</th>\n",
       "      <td>CMIN3</td>\n",
       "      <td>45317</td>\n",
       "      <td>6.82</td>\n",
       "      <td>2.40</td>\n",
       "      <td>0.02</td>\n",
       "      <td>6.66</td>\n",
       "      <td>CMIN3</td>\n",
       "      <td>1110559345.00</td>\n",
       "    </tr>\n",
       "    <tr>\n",
       "      <th>2</th>\n",
       "      <td>PETR3</td>\n",
       "      <td>45317</td>\n",
       "      <td>41.96</td>\n",
       "      <td>2.19</td>\n",
       "      <td>0.02</td>\n",
       "      <td>41.06</td>\n",
       "      <td>PETR3</td>\n",
       "      <td>2379877655.00</td>\n",
       "    </tr>\n",
       "    <tr>\n",
       "      <th>3</th>\n",
       "      <td>SUZB3</td>\n",
       "      <td>45317</td>\n",
       "      <td>52.91</td>\n",
       "      <td>2.04</td>\n",
       "      <td>0.02</td>\n",
       "      <td>51.85</td>\n",
       "      <td>SUZB3</td>\n",
       "      <td>683452836.00</td>\n",
       "    </tr>\n",
       "    <tr>\n",
       "      <th>4</th>\n",
       "      <td>CPFE3</td>\n",
       "      <td>45317</td>\n",
       "      <td>37.10</td>\n",
       "      <td>2.03</td>\n",
       "      <td>0.02</td>\n",
       "      <td>36.36</td>\n",
       "      <td>CPFE3</td>\n",
       "      <td>187732538.00</td>\n",
       "    </tr>\n",
       "    <tr>\n",
       "      <th>...</th>\n",
       "      <td>...</td>\n",
       "      <td>...</td>\n",
       "      <td>...</td>\n",
       "      <td>...</td>\n",
       "      <td>...</td>\n",
       "      <td>...</td>\n",
       "      <td>...</td>\n",
       "      <td>...</td>\n",
       "    </tr>\n",
       "    <tr>\n",
       "      <th>76</th>\n",
       "      <td>CRFB3</td>\n",
       "      <td>45317</td>\n",
       "      <td>10.71</td>\n",
       "      <td>-2.45</td>\n",
       "      <td>-0.02</td>\n",
       "      <td>10.98</td>\n",
       "      <td>CRFB3</td>\n",
       "      <td>533990587.00</td>\n",
       "    </tr>\n",
       "    <tr>\n",
       "      <th>77</th>\n",
       "      <td>BHIA3</td>\n",
       "      <td>45317</td>\n",
       "      <td>8.70</td>\n",
       "      <td>-2.46</td>\n",
       "      <td>-0.02</td>\n",
       "      <td>8.92</td>\n",
       "      <td>BHIA3</td>\n",
       "      <td>94843047.00</td>\n",
       "    </tr>\n",
       "    <tr>\n",
       "      <th>78</th>\n",
       "      <td>RENT3</td>\n",
       "      <td>45317</td>\n",
       "      <td>56.24</td>\n",
       "      <td>-3.63</td>\n",
       "      <td>-0.04</td>\n",
       "      <td>58.36</td>\n",
       "      <td>RENT3</td>\n",
       "      <td>853202347.00</td>\n",
       "    </tr>\n",
       "    <tr>\n",
       "      <th>79</th>\n",
       "      <td>CVCB3</td>\n",
       "      <td>45317</td>\n",
       "      <td>3.07</td>\n",
       "      <td>-4.36</td>\n",
       "      <td>-0.04</td>\n",
       "      <td>3.21</td>\n",
       "      <td>CVCB3</td>\n",
       "      <td>525582771.00</td>\n",
       "    </tr>\n",
       "    <tr>\n",
       "      <th>80</th>\n",
       "      <td>GOLL4</td>\n",
       "      <td>45317</td>\n",
       "      <td>5.92</td>\n",
       "      <td>-8.07</td>\n",
       "      <td>-0.08</td>\n",
       "      <td>6.44</td>\n",
       "      <td>GOLL4</td>\n",
       "      <td>198184909.00</td>\n",
       "    </tr>\n",
       "  </tbody>\n",
       "</table>\n",
       "<p>81 rows × 8 columns</p>\n",
       "</div>"
      ],
      "text/plain": [
       "    Ativo   Data  valor_final  var_dia_pct  var_pct  var_inicial Código  \\\n",
       "0   USIM5  45317         9.50         5.20     0.05         9.03  USIM5   \n",
       "1   CMIN3  45317         6.82         2.40     0.02         6.66  CMIN3   \n",
       "2   PETR3  45317        41.96         2.19     0.02        41.06  PETR3   \n",
       "3   SUZB3  45317        52.91         2.04     0.02        51.85  SUZB3   \n",
       "4   CPFE3  45317        37.10         2.03     0.02        36.36  CPFE3   \n",
       "..    ...    ...          ...          ...      ...          ...    ...   \n",
       "76  CRFB3  45317        10.71        -2.45    -0.02        10.98  CRFB3   \n",
       "77  BHIA3  45317         8.70        -2.46    -0.02         8.92  BHIA3   \n",
       "78  RENT3  45317        56.24        -3.63    -0.04        58.36  RENT3   \n",
       "79  CVCB3  45317         3.07        -4.36    -0.04         3.21  CVCB3   \n",
       "80  GOLL4  45317         5.92        -8.07    -0.08         6.44  GOLL4   \n",
       "\n",
       "    Qtde. Teórica  \n",
       "0    515117391.00  \n",
       "1   1110559345.00  \n",
       "2   2379877655.00  \n",
       "3    683452836.00  \n",
       "4    187732538.00  \n",
       "..            ...  \n",
       "76   533990587.00  \n",
       "77    94843047.00  \n",
       "78   853202347.00  \n",
       "79   525582771.00  \n",
       "80   198184909.00  \n",
       "\n",
       "[81 rows x 8 columns]"
      ]
     },
     "execution_count": 81,
     "metadata": {},
     "output_type": "execute_result"
    }
   ],
   "source": [
    "df_principal = df_principal.merge(df_total_acoes, left_on='Ativo', right_on='Código', how='left')\n",
    "df_principal"
   ]
  },
  {
   "cell_type": "code",
   "execution_count": 82,
   "metadata": {},
   "outputs": [
    {
     "data": {
      "text/html": [
       "<div>\n",
       "<style scoped>\n",
       "    .dataframe tbody tr th:only-of-type {\n",
       "        vertical-align: middle;\n",
       "    }\n",
       "\n",
       "    .dataframe tbody tr th {\n",
       "        vertical-align: top;\n",
       "    }\n",
       "\n",
       "    .dataframe thead th {\n",
       "        text-align: right;\n",
       "    }\n",
       "</style>\n",
       "<table border=\"1\" class=\"dataframe\">\n",
       "  <thead>\n",
       "    <tr style=\"text-align: right;\">\n",
       "      <th></th>\n",
       "      <th>Ativo</th>\n",
       "      <th>Data</th>\n",
       "      <th>valor_final</th>\n",
       "      <th>var_dia_pct</th>\n",
       "      <th>var_pct</th>\n",
       "      <th>var_inicial</th>\n",
       "      <th>qtd_teorica</th>\n",
       "    </tr>\n",
       "  </thead>\n",
       "  <tbody>\n",
       "    <tr>\n",
       "      <th>0</th>\n",
       "      <td>USIM5</td>\n",
       "      <td>45317</td>\n",
       "      <td>9.50</td>\n",
       "      <td>5.20</td>\n",
       "      <td>0.05</td>\n",
       "      <td>9.03</td>\n",
       "      <td>515117391.00</td>\n",
       "    </tr>\n",
       "    <tr>\n",
       "      <th>1</th>\n",
       "      <td>CMIN3</td>\n",
       "      <td>45317</td>\n",
       "      <td>6.82</td>\n",
       "      <td>2.40</td>\n",
       "      <td>0.02</td>\n",
       "      <td>6.66</td>\n",
       "      <td>1110559345.00</td>\n",
       "    </tr>\n",
       "    <tr>\n",
       "      <th>2</th>\n",
       "      <td>PETR3</td>\n",
       "      <td>45317</td>\n",
       "      <td>41.96</td>\n",
       "      <td>2.19</td>\n",
       "      <td>0.02</td>\n",
       "      <td>41.06</td>\n",
       "      <td>2379877655.00</td>\n",
       "    </tr>\n",
       "    <tr>\n",
       "      <th>3</th>\n",
       "      <td>SUZB3</td>\n",
       "      <td>45317</td>\n",
       "      <td>52.91</td>\n",
       "      <td>2.04</td>\n",
       "      <td>0.02</td>\n",
       "      <td>51.85</td>\n",
       "      <td>683452836.00</td>\n",
       "    </tr>\n",
       "    <tr>\n",
       "      <th>4</th>\n",
       "      <td>CPFE3</td>\n",
       "      <td>45317</td>\n",
       "      <td>37.10</td>\n",
       "      <td>2.03</td>\n",
       "      <td>0.02</td>\n",
       "      <td>36.36</td>\n",
       "      <td>187732538.00</td>\n",
       "    </tr>\n",
       "    <tr>\n",
       "      <th>...</th>\n",
       "      <td>...</td>\n",
       "      <td>...</td>\n",
       "      <td>...</td>\n",
       "      <td>...</td>\n",
       "      <td>...</td>\n",
       "      <td>...</td>\n",
       "      <td>...</td>\n",
       "    </tr>\n",
       "    <tr>\n",
       "      <th>76</th>\n",
       "      <td>CRFB3</td>\n",
       "      <td>45317</td>\n",
       "      <td>10.71</td>\n",
       "      <td>-2.45</td>\n",
       "      <td>-0.02</td>\n",
       "      <td>10.98</td>\n",
       "      <td>533990587.00</td>\n",
       "    </tr>\n",
       "    <tr>\n",
       "      <th>77</th>\n",
       "      <td>BHIA3</td>\n",
       "      <td>45317</td>\n",
       "      <td>8.70</td>\n",
       "      <td>-2.46</td>\n",
       "      <td>-0.02</td>\n",
       "      <td>8.92</td>\n",
       "      <td>94843047.00</td>\n",
       "    </tr>\n",
       "    <tr>\n",
       "      <th>78</th>\n",
       "      <td>RENT3</td>\n",
       "      <td>45317</td>\n",
       "      <td>56.24</td>\n",
       "      <td>-3.63</td>\n",
       "      <td>-0.04</td>\n",
       "      <td>58.36</td>\n",
       "      <td>853202347.00</td>\n",
       "    </tr>\n",
       "    <tr>\n",
       "      <th>79</th>\n",
       "      <td>CVCB3</td>\n",
       "      <td>45317</td>\n",
       "      <td>3.07</td>\n",
       "      <td>-4.36</td>\n",
       "      <td>-0.04</td>\n",
       "      <td>3.21</td>\n",
       "      <td>525582771.00</td>\n",
       "    </tr>\n",
       "    <tr>\n",
       "      <th>80</th>\n",
       "      <td>GOLL4</td>\n",
       "      <td>45317</td>\n",
       "      <td>5.92</td>\n",
       "      <td>-8.07</td>\n",
       "      <td>-0.08</td>\n",
       "      <td>6.44</td>\n",
       "      <td>198184909.00</td>\n",
       "    </tr>\n",
       "  </tbody>\n",
       "</table>\n",
       "<p>81 rows × 7 columns</p>\n",
       "</div>"
      ],
      "text/plain": [
       "    Ativo   Data  valor_final  var_dia_pct  var_pct  var_inicial   qtd_teorica\n",
       "0   USIM5  45317         9.50         5.20     0.05         9.03  515117391.00\n",
       "1   CMIN3  45317         6.82         2.40     0.02         6.66 1110559345.00\n",
       "2   PETR3  45317        41.96         2.19     0.02        41.06 2379877655.00\n",
       "3   SUZB3  45317        52.91         2.04     0.02        51.85  683452836.00\n",
       "4   CPFE3  45317        37.10         2.03     0.02        36.36  187732538.00\n",
       "..    ...    ...          ...          ...      ...          ...           ...\n",
       "76  CRFB3  45317        10.71        -2.45    -0.02        10.98  533990587.00\n",
       "77  BHIA3  45317         8.70        -2.46    -0.02         8.92   94843047.00\n",
       "78  RENT3  45317        56.24        -3.63    -0.04        58.36  853202347.00\n",
       "79  CVCB3  45317         3.07        -4.36    -0.04         3.21  525582771.00\n",
       "80  GOLL4  45317         5.92        -8.07    -0.08         6.44  198184909.00\n",
       "\n",
       "[81 rows x 7 columns]"
      ]
     },
     "execution_count": 82,
     "metadata": {},
     "output_type": "execute_result"
    }
   ],
   "source": [
    "df_principal = df_principal.drop(columns={'Código'})\n",
    "df_principal = df_principal.rename(columns={'Qtde. Teórica':'qtd_teorica'}).copy()\n",
    "df_principal"
   ]
  },
  {
   "cell_type": "code",
   "execution_count": 83,
   "metadata": {},
   "outputs": [
    {
     "data": {
      "text/html": [
       "<div>\n",
       "<style scoped>\n",
       "    .dataframe tbody tr th:only-of-type {\n",
       "        vertical-align: middle;\n",
       "    }\n",
       "\n",
       "    .dataframe tbody tr th {\n",
       "        vertical-align: top;\n",
       "    }\n",
       "\n",
       "    .dataframe thead th {\n",
       "        text-align: right;\n",
       "    }\n",
       "</style>\n",
       "<table border=\"1\" class=\"dataframe\">\n",
       "  <thead>\n",
       "    <tr style=\"text-align: right;\">\n",
       "      <th></th>\n",
       "      <th>Ativo</th>\n",
       "      <th>Data</th>\n",
       "      <th>valor_final</th>\n",
       "      <th>var_dia_pct</th>\n",
       "      <th>var_pct</th>\n",
       "      <th>var_inicial</th>\n",
       "      <th>qtd_teorica</th>\n",
       "      <th>variacao_rs</th>\n",
       "    </tr>\n",
       "  </thead>\n",
       "  <tbody>\n",
       "    <tr>\n",
       "      <th>0</th>\n",
       "      <td>USIM5</td>\n",
       "      <td>45317</td>\n",
       "      <td>9.50</td>\n",
       "      <td>5.20</td>\n",
       "      <td>0.05</td>\n",
       "      <td>9.03</td>\n",
       "      <td>515117391.00</td>\n",
       "      <td>241889725.43</td>\n",
       "    </tr>\n",
       "    <tr>\n",
       "      <th>1</th>\n",
       "      <td>CMIN3</td>\n",
       "      <td>45317</td>\n",
       "      <td>6.82</td>\n",
       "      <td>2.40</td>\n",
       "      <td>0.02</td>\n",
       "      <td>6.66</td>\n",
       "      <td>1110559345.00</td>\n",
       "      <td>177515970.30</td>\n",
       "    </tr>\n",
       "    <tr>\n",
       "      <th>2</th>\n",
       "      <td>PETR3</td>\n",
       "      <td>45317</td>\n",
       "      <td>41.96</td>\n",
       "      <td>2.19</td>\n",
       "      <td>0.02</td>\n",
       "      <td>41.06</td>\n",
       "      <td>2379877655.00</td>\n",
       "      <td>2140059393.53</td>\n",
       "    </tr>\n",
       "    <tr>\n",
       "      <th>3</th>\n",
       "      <td>SUZB3</td>\n",
       "      <td>45317</td>\n",
       "      <td>52.91</td>\n",
       "      <td>2.04</td>\n",
       "      <td>0.02</td>\n",
       "      <td>51.85</td>\n",
       "      <td>683452836.00</td>\n",
       "      <td>722946282.71</td>\n",
       "    </tr>\n",
       "    <tr>\n",
       "      <th>4</th>\n",
       "      <td>CPFE3</td>\n",
       "      <td>45317</td>\n",
       "      <td>37.10</td>\n",
       "      <td>2.03</td>\n",
       "      <td>0.02</td>\n",
       "      <td>36.36</td>\n",
       "      <td>187732538.00</td>\n",
       "      <td>138573955.06</td>\n",
       "    </tr>\n",
       "    <tr>\n",
       "      <th>...</th>\n",
       "      <td>...</td>\n",
       "      <td>...</td>\n",
       "      <td>...</td>\n",
       "      <td>...</td>\n",
       "      <td>...</td>\n",
       "      <td>...</td>\n",
       "      <td>...</td>\n",
       "      <td>...</td>\n",
       "    </tr>\n",
       "    <tr>\n",
       "      <th>76</th>\n",
       "      <td>CRFB3</td>\n",
       "      <td>45317</td>\n",
       "      <td>10.71</td>\n",
       "      <td>-2.45</td>\n",
       "      <td>-0.02</td>\n",
       "      <td>10.98</td>\n",
       "      <td>533990587.00</td>\n",
       "      <td>-143635530.57</td>\n",
       "    </tr>\n",
       "    <tr>\n",
       "      <th>77</th>\n",
       "      <td>BHIA3</td>\n",
       "      <td>45317</td>\n",
       "      <td>8.70</td>\n",
       "      <td>-2.46</td>\n",
       "      <td>-0.02</td>\n",
       "      <td>8.92</td>\n",
       "      <td>94843047.00</td>\n",
       "      <td>-20810240.84</td>\n",
       "    </tr>\n",
       "    <tr>\n",
       "      <th>78</th>\n",
       "      <td>RENT3</td>\n",
       "      <td>45317</td>\n",
       "      <td>56.24</td>\n",
       "      <td>-3.63</td>\n",
       "      <td>-0.04</td>\n",
       "      <td>58.36</td>\n",
       "      <td>853202347.00</td>\n",
       "      <td>-1807432634.46</td>\n",
       "    </tr>\n",
       "    <tr>\n",
       "      <th>79</th>\n",
       "      <td>CVCB3</td>\n",
       "      <td>45317</td>\n",
       "      <td>3.07</td>\n",
       "      <td>-4.36</td>\n",
       "      <td>-0.04</td>\n",
       "      <td>3.21</td>\n",
       "      <td>525582771.00</td>\n",
       "      <td>-73557408.06</td>\n",
       "    </tr>\n",
       "    <tr>\n",
       "      <th>80</th>\n",
       "      <td>GOLL4</td>\n",
       "      <td>45317</td>\n",
       "      <td>5.92</td>\n",
       "      <td>-8.07</td>\n",
       "      <td>-0.08</td>\n",
       "      <td>6.44</td>\n",
       "      <td>198184909.00</td>\n",
       "      <td>-102993202.62</td>\n",
       "    </tr>\n",
       "  </tbody>\n",
       "</table>\n",
       "<p>81 rows × 8 columns</p>\n",
       "</div>"
      ],
      "text/plain": [
       "    Ativo   Data  valor_final  var_dia_pct  var_pct  var_inicial  \\\n",
       "0   USIM5  45317         9.50         5.20     0.05         9.03   \n",
       "1   CMIN3  45317         6.82         2.40     0.02         6.66   \n",
       "2   PETR3  45317        41.96         2.19     0.02        41.06   \n",
       "3   SUZB3  45317        52.91         2.04     0.02        51.85   \n",
       "4   CPFE3  45317        37.10         2.03     0.02        36.36   \n",
       "..    ...    ...          ...          ...      ...          ...   \n",
       "76  CRFB3  45317        10.71        -2.45    -0.02        10.98   \n",
       "77  BHIA3  45317         8.70        -2.46    -0.02         8.92   \n",
       "78  RENT3  45317        56.24        -3.63    -0.04        58.36   \n",
       "79  CVCB3  45317         3.07        -4.36    -0.04         3.21   \n",
       "80  GOLL4  45317         5.92        -8.07    -0.08         6.44   \n",
       "\n",
       "     qtd_teorica    variacao_rs  \n",
       "0   515117391.00   241889725.43  \n",
       "1  1110559345.00   177515970.30  \n",
       "2  2379877655.00  2140059393.53  \n",
       "3   683452836.00   722946282.71  \n",
       "4   187732538.00   138573955.06  \n",
       "..           ...            ...  \n",
       "76  533990587.00  -143635530.57  \n",
       "77   94843047.00   -20810240.84  \n",
       "78  853202347.00 -1807432634.46  \n",
       "79  525582771.00   -73557408.06  \n",
       "80  198184909.00  -102993202.62  \n",
       "\n",
       "[81 rows x 8 columns]"
      ]
     },
     "execution_count": 83,
     "metadata": {},
     "output_type": "execute_result"
    }
   ],
   "source": [
    "df_principal['variacao_rs'] = (df_principal['valor_final'] - df_principal['var_inicial']) * df_principal['qtd_teorica']\n",
    "df_principal"
   ]
  },
  {
   "cell_type": "code",
   "execution_count": 84,
   "metadata": {},
   "outputs": [
    {
     "data": {
      "text/html": [
       "<div>\n",
       "<style scoped>\n",
       "    .dataframe tbody tr th:only-of-type {\n",
       "        vertical-align: middle;\n",
       "    }\n",
       "\n",
       "    .dataframe tbody tr th {\n",
       "        vertical-align: top;\n",
       "    }\n",
       "\n",
       "    .dataframe thead th {\n",
       "        text-align: right;\n",
       "    }\n",
       "</style>\n",
       "<table border=\"1\" class=\"dataframe\">\n",
       "  <thead>\n",
       "    <tr style=\"text-align: right;\">\n",
       "      <th></th>\n",
       "      <th>Ativo</th>\n",
       "      <th>Data</th>\n",
       "      <th>valor_final</th>\n",
       "      <th>var_dia_pct</th>\n",
       "      <th>var_pct</th>\n",
       "      <th>var_inicial</th>\n",
       "      <th>qtd_teorica</th>\n",
       "      <th>variacao_rs</th>\n",
       "    </tr>\n",
       "  </thead>\n",
       "  <tbody>\n",
       "    <tr>\n",
       "      <th>0</th>\n",
       "      <td>USIM5</td>\n",
       "      <td>45317</td>\n",
       "      <td>9.50</td>\n",
       "      <td>5.20</td>\n",
       "      <td>0.05</td>\n",
       "      <td>9.03</td>\n",
       "      <td>515117391</td>\n",
       "      <td>241889725.43</td>\n",
       "    </tr>\n",
       "    <tr>\n",
       "      <th>1</th>\n",
       "      <td>CMIN3</td>\n",
       "      <td>45317</td>\n",
       "      <td>6.82</td>\n",
       "      <td>2.40</td>\n",
       "      <td>0.02</td>\n",
       "      <td>6.66</td>\n",
       "      <td>1110559345</td>\n",
       "      <td>177515970.30</td>\n",
       "    </tr>\n",
       "    <tr>\n",
       "      <th>2</th>\n",
       "      <td>PETR3</td>\n",
       "      <td>45317</td>\n",
       "      <td>41.96</td>\n",
       "      <td>2.19</td>\n",
       "      <td>0.02</td>\n",
       "      <td>41.06</td>\n",
       "      <td>-2147483648</td>\n",
       "      <td>2140059393.53</td>\n",
       "    </tr>\n",
       "    <tr>\n",
       "      <th>3</th>\n",
       "      <td>SUZB3</td>\n",
       "      <td>45317</td>\n",
       "      <td>52.91</td>\n",
       "      <td>2.04</td>\n",
       "      <td>0.02</td>\n",
       "      <td>51.85</td>\n",
       "      <td>683452836</td>\n",
       "      <td>722946282.71</td>\n",
       "    </tr>\n",
       "    <tr>\n",
       "      <th>4</th>\n",
       "      <td>CPFE3</td>\n",
       "      <td>45317</td>\n",
       "      <td>37.10</td>\n",
       "      <td>2.03</td>\n",
       "      <td>0.02</td>\n",
       "      <td>36.36</td>\n",
       "      <td>187732538</td>\n",
       "      <td>138573955.06</td>\n",
       "    </tr>\n",
       "    <tr>\n",
       "      <th>...</th>\n",
       "      <td>...</td>\n",
       "      <td>...</td>\n",
       "      <td>...</td>\n",
       "      <td>...</td>\n",
       "      <td>...</td>\n",
       "      <td>...</td>\n",
       "      <td>...</td>\n",
       "      <td>...</td>\n",
       "    </tr>\n",
       "    <tr>\n",
       "      <th>76</th>\n",
       "      <td>CRFB3</td>\n",
       "      <td>45317</td>\n",
       "      <td>10.71</td>\n",
       "      <td>-2.45</td>\n",
       "      <td>-0.02</td>\n",
       "      <td>10.98</td>\n",
       "      <td>533990587</td>\n",
       "      <td>-143635530.57</td>\n",
       "    </tr>\n",
       "    <tr>\n",
       "      <th>77</th>\n",
       "      <td>BHIA3</td>\n",
       "      <td>45317</td>\n",
       "      <td>8.70</td>\n",
       "      <td>-2.46</td>\n",
       "      <td>-0.02</td>\n",
       "      <td>8.92</td>\n",
       "      <td>94843047</td>\n",
       "      <td>-20810240.84</td>\n",
       "    </tr>\n",
       "    <tr>\n",
       "      <th>78</th>\n",
       "      <td>RENT3</td>\n",
       "      <td>45317</td>\n",
       "      <td>56.24</td>\n",
       "      <td>-3.63</td>\n",
       "      <td>-0.04</td>\n",
       "      <td>58.36</td>\n",
       "      <td>853202347</td>\n",
       "      <td>-1807432634.46</td>\n",
       "    </tr>\n",
       "    <tr>\n",
       "      <th>79</th>\n",
       "      <td>CVCB3</td>\n",
       "      <td>45317</td>\n",
       "      <td>3.07</td>\n",
       "      <td>-4.36</td>\n",
       "      <td>-0.04</td>\n",
       "      <td>3.21</td>\n",
       "      <td>525582771</td>\n",
       "      <td>-73557408.06</td>\n",
       "    </tr>\n",
       "    <tr>\n",
       "      <th>80</th>\n",
       "      <td>GOLL4</td>\n",
       "      <td>45317</td>\n",
       "      <td>5.92</td>\n",
       "      <td>-8.07</td>\n",
       "      <td>-0.08</td>\n",
       "      <td>6.44</td>\n",
       "      <td>198184909</td>\n",
       "      <td>-102993202.62</td>\n",
       "    </tr>\n",
       "  </tbody>\n",
       "</table>\n",
       "<p>81 rows × 8 columns</p>\n",
       "</div>"
      ],
      "text/plain": [
       "    Ativo   Data  valor_final  var_dia_pct  var_pct  var_inicial  qtd_teorica  \\\n",
       "0   USIM5  45317         9.50         5.20     0.05         9.03    515117391   \n",
       "1   CMIN3  45317         6.82         2.40     0.02         6.66   1110559345   \n",
       "2   PETR3  45317        41.96         2.19     0.02        41.06  -2147483648   \n",
       "3   SUZB3  45317        52.91         2.04     0.02        51.85    683452836   \n",
       "4   CPFE3  45317        37.10         2.03     0.02        36.36    187732538   \n",
       "..    ...    ...          ...          ...      ...          ...          ...   \n",
       "76  CRFB3  45317        10.71        -2.45    -0.02        10.98    533990587   \n",
       "77  BHIA3  45317         8.70        -2.46    -0.02         8.92     94843047   \n",
       "78  RENT3  45317        56.24        -3.63    -0.04        58.36    853202347   \n",
       "79  CVCB3  45317         3.07        -4.36    -0.04         3.21    525582771   \n",
       "80  GOLL4  45317         5.92        -8.07    -0.08         6.44    198184909   \n",
       "\n",
       "      variacao_rs  \n",
       "0    241889725.43  \n",
       "1    177515970.30  \n",
       "2   2140059393.53  \n",
       "3    722946282.71  \n",
       "4    138573955.06  \n",
       "..            ...  \n",
       "76  -143635530.57  \n",
       "77   -20810240.84  \n",
       "78 -1807432634.46  \n",
       "79   -73557408.06  \n",
       "80  -102993202.62  \n",
       "\n",
       "[81 rows x 8 columns]"
      ]
     },
     "execution_count": 84,
     "metadata": {},
     "output_type": "execute_result"
    }
   ],
   "source": [
    "df_principal['qtd_teorica'] = df_principal['qtd_teorica'].astype(int)\n",
    "df_principal"
   ]
  },
  {
   "cell_type": "code",
   "execution_count": 85,
   "metadata": {},
   "outputs": [
    {
     "data": {
      "text/html": [
       "<div>\n",
       "<style scoped>\n",
       "    .dataframe tbody tr th:only-of-type {\n",
       "        vertical-align: middle;\n",
       "    }\n",
       "\n",
       "    .dataframe tbody tr th {\n",
       "        vertical-align: top;\n",
       "    }\n",
       "\n",
       "    .dataframe thead th {\n",
       "        text-align: right;\n",
       "    }\n",
       "</style>\n",
       "<table border=\"1\" class=\"dataframe\">\n",
       "  <thead>\n",
       "    <tr style=\"text-align: right;\">\n",
       "      <th></th>\n",
       "      <th>Ativo</th>\n",
       "      <th>Data</th>\n",
       "      <th>valor_final</th>\n",
       "      <th>var_dia_pct</th>\n",
       "      <th>var_pct</th>\n",
       "      <th>var_inicial</th>\n",
       "      <th>qtd_teorica</th>\n",
       "      <th>variacao_rs</th>\n",
       "      <th>resultado</th>\n",
       "    </tr>\n",
       "  </thead>\n",
       "  <tbody>\n",
       "    <tr>\n",
       "      <th>0</th>\n",
       "      <td>USIM5</td>\n",
       "      <td>45317</td>\n",
       "      <td>9.50</td>\n",
       "      <td>5.20</td>\n",
       "      <td>0.05</td>\n",
       "      <td>9.03</td>\n",
       "      <td>515117391</td>\n",
       "      <td>241889725.43</td>\n",
       "      <td>Subiu</td>\n",
       "    </tr>\n",
       "    <tr>\n",
       "      <th>1</th>\n",
       "      <td>CMIN3</td>\n",
       "      <td>45317</td>\n",
       "      <td>6.82</td>\n",
       "      <td>2.40</td>\n",
       "      <td>0.02</td>\n",
       "      <td>6.66</td>\n",
       "      <td>1110559345</td>\n",
       "      <td>177515970.30</td>\n",
       "      <td>Subiu</td>\n",
       "    </tr>\n",
       "    <tr>\n",
       "      <th>2</th>\n",
       "      <td>PETR3</td>\n",
       "      <td>45317</td>\n",
       "      <td>41.96</td>\n",
       "      <td>2.19</td>\n",
       "      <td>0.02</td>\n",
       "      <td>41.06</td>\n",
       "      <td>-2147483648</td>\n",
       "      <td>2140059393.53</td>\n",
       "      <td>Subiu</td>\n",
       "    </tr>\n",
       "    <tr>\n",
       "      <th>3</th>\n",
       "      <td>SUZB3</td>\n",
       "      <td>45317</td>\n",
       "      <td>52.91</td>\n",
       "      <td>2.04</td>\n",
       "      <td>0.02</td>\n",
       "      <td>51.85</td>\n",
       "      <td>683452836</td>\n",
       "      <td>722946282.71</td>\n",
       "      <td>Subiu</td>\n",
       "    </tr>\n",
       "    <tr>\n",
       "      <th>4</th>\n",
       "      <td>CPFE3</td>\n",
       "      <td>45317</td>\n",
       "      <td>37.10</td>\n",
       "      <td>2.03</td>\n",
       "      <td>0.02</td>\n",
       "      <td>36.36</td>\n",
       "      <td>187732538</td>\n",
       "      <td>138573955.06</td>\n",
       "      <td>Subiu</td>\n",
       "    </tr>\n",
       "    <tr>\n",
       "      <th>...</th>\n",
       "      <td>...</td>\n",
       "      <td>...</td>\n",
       "      <td>...</td>\n",
       "      <td>...</td>\n",
       "      <td>...</td>\n",
       "      <td>...</td>\n",
       "      <td>...</td>\n",
       "      <td>...</td>\n",
       "      <td>...</td>\n",
       "    </tr>\n",
       "    <tr>\n",
       "      <th>76</th>\n",
       "      <td>CRFB3</td>\n",
       "      <td>45317</td>\n",
       "      <td>10.71</td>\n",
       "      <td>-2.45</td>\n",
       "      <td>-0.02</td>\n",
       "      <td>10.98</td>\n",
       "      <td>533990587</td>\n",
       "      <td>-143635530.57</td>\n",
       "      <td>Desceu</td>\n",
       "    </tr>\n",
       "    <tr>\n",
       "      <th>77</th>\n",
       "      <td>BHIA3</td>\n",
       "      <td>45317</td>\n",
       "      <td>8.70</td>\n",
       "      <td>-2.46</td>\n",
       "      <td>-0.02</td>\n",
       "      <td>8.92</td>\n",
       "      <td>94843047</td>\n",
       "      <td>-20810240.84</td>\n",
       "      <td>Desceu</td>\n",
       "    </tr>\n",
       "    <tr>\n",
       "      <th>78</th>\n",
       "      <td>RENT3</td>\n",
       "      <td>45317</td>\n",
       "      <td>56.24</td>\n",
       "      <td>-3.63</td>\n",
       "      <td>-0.04</td>\n",
       "      <td>58.36</td>\n",
       "      <td>853202347</td>\n",
       "      <td>-1807432634.46</td>\n",
       "      <td>Desceu</td>\n",
       "    </tr>\n",
       "    <tr>\n",
       "      <th>79</th>\n",
       "      <td>CVCB3</td>\n",
       "      <td>45317</td>\n",
       "      <td>3.07</td>\n",
       "      <td>-4.36</td>\n",
       "      <td>-0.04</td>\n",
       "      <td>3.21</td>\n",
       "      <td>525582771</td>\n",
       "      <td>-73557408.06</td>\n",
       "      <td>Desceu</td>\n",
       "    </tr>\n",
       "    <tr>\n",
       "      <th>80</th>\n",
       "      <td>GOLL4</td>\n",
       "      <td>45317</td>\n",
       "      <td>5.92</td>\n",
       "      <td>-8.07</td>\n",
       "      <td>-0.08</td>\n",
       "      <td>6.44</td>\n",
       "      <td>198184909</td>\n",
       "      <td>-102993202.62</td>\n",
       "      <td>Desceu</td>\n",
       "    </tr>\n",
       "  </tbody>\n",
       "</table>\n",
       "<p>81 rows × 9 columns</p>\n",
       "</div>"
      ],
      "text/plain": [
       "    Ativo   Data  valor_final  var_dia_pct  var_pct  var_inicial  qtd_teorica  \\\n",
       "0   USIM5  45317         9.50         5.20     0.05         9.03    515117391   \n",
       "1   CMIN3  45317         6.82         2.40     0.02         6.66   1110559345   \n",
       "2   PETR3  45317        41.96         2.19     0.02        41.06  -2147483648   \n",
       "3   SUZB3  45317        52.91         2.04     0.02        51.85    683452836   \n",
       "4   CPFE3  45317        37.10         2.03     0.02        36.36    187732538   \n",
       "..    ...    ...          ...          ...      ...          ...          ...   \n",
       "76  CRFB3  45317        10.71        -2.45    -0.02        10.98    533990587   \n",
       "77  BHIA3  45317         8.70        -2.46    -0.02         8.92     94843047   \n",
       "78  RENT3  45317        56.24        -3.63    -0.04        58.36    853202347   \n",
       "79  CVCB3  45317         3.07        -4.36    -0.04         3.21    525582771   \n",
       "80  GOLL4  45317         5.92        -8.07    -0.08         6.44    198184909   \n",
       "\n",
       "      variacao_rs resultado  \n",
       "0    241889725.43     Subiu  \n",
       "1    177515970.30     Subiu  \n",
       "2   2140059393.53     Subiu  \n",
       "3    722946282.71     Subiu  \n",
       "4    138573955.06     Subiu  \n",
       "..            ...       ...  \n",
       "76  -143635530.57    Desceu  \n",
       "77   -20810240.84    Desceu  \n",
       "78 -1807432634.46    Desceu  \n",
       "79   -73557408.06    Desceu  \n",
       "80  -102993202.62    Desceu  \n",
       "\n",
       "[81 rows x 9 columns]"
      ]
     },
     "execution_count": 85,
     "metadata": {},
     "output_type": "execute_result"
    }
   ],
   "source": [
    "df_principal['resultado'] = df_principal['variacao_rs'].apply(lambda x: 'Subiu' if x > 0 else 'Desceu' if x < 0 else 'Estável')\n",
    "df_principal"
   ]
  },
  {
   "cell_type": "code",
   "execution_count": 86,
   "metadata": {},
   "outputs": [
    {
     "data": {
      "text/html": [
       "<div>\n",
       "<style scoped>\n",
       "    .dataframe tbody tr th:only-of-type {\n",
       "        vertical-align: middle;\n",
       "    }\n",
       "\n",
       "    .dataframe tbody tr th {\n",
       "        vertical-align: top;\n",
       "    }\n",
       "\n",
       "    .dataframe thead th {\n",
       "        text-align: right;\n",
       "    }\n",
       "</style>\n",
       "<table border=\"1\" class=\"dataframe\">\n",
       "  <thead>\n",
       "    <tr style=\"text-align: right;\">\n",
       "      <th></th>\n",
       "      <th>Ativo</th>\n",
       "      <th>Data</th>\n",
       "      <th>valor_final</th>\n",
       "      <th>var_dia_pct</th>\n",
       "      <th>var_pct</th>\n",
       "      <th>var_inicial</th>\n",
       "      <th>qtd_teorica</th>\n",
       "      <th>variacao_rs</th>\n",
       "      <th>resultado</th>\n",
       "      <th>Nome</th>\n",
       "    </tr>\n",
       "  </thead>\n",
       "  <tbody>\n",
       "    <tr>\n",
       "      <th>0</th>\n",
       "      <td>USIM5</td>\n",
       "      <td>45317</td>\n",
       "      <td>9.50</td>\n",
       "      <td>5.20</td>\n",
       "      <td>0.05</td>\n",
       "      <td>9.03</td>\n",
       "      <td>515117391</td>\n",
       "      <td>241889725.43</td>\n",
       "      <td>Subiu</td>\n",
       "      <td>Usiminas</td>\n",
       "    </tr>\n",
       "    <tr>\n",
       "      <th>1</th>\n",
       "      <td>CMIN3</td>\n",
       "      <td>45317</td>\n",
       "      <td>6.82</td>\n",
       "      <td>2.40</td>\n",
       "      <td>0.02</td>\n",
       "      <td>6.66</td>\n",
       "      <td>1110559345</td>\n",
       "      <td>177515970.30</td>\n",
       "      <td>Subiu</td>\n",
       "      <td>CSN Mineração</td>\n",
       "    </tr>\n",
       "    <tr>\n",
       "      <th>2</th>\n",
       "      <td>PETR3</td>\n",
       "      <td>45317</td>\n",
       "      <td>41.96</td>\n",
       "      <td>2.19</td>\n",
       "      <td>0.02</td>\n",
       "      <td>41.06</td>\n",
       "      <td>-2147483648</td>\n",
       "      <td>2140059393.53</td>\n",
       "      <td>Subiu</td>\n",
       "      <td>Petrobras</td>\n",
       "    </tr>\n",
       "    <tr>\n",
       "      <th>3</th>\n",
       "      <td>SUZB3</td>\n",
       "      <td>45317</td>\n",
       "      <td>52.91</td>\n",
       "      <td>2.04</td>\n",
       "      <td>0.02</td>\n",
       "      <td>51.85</td>\n",
       "      <td>683452836</td>\n",
       "      <td>722946282.71</td>\n",
       "      <td>Subiu</td>\n",
       "      <td>Suzano</td>\n",
       "    </tr>\n",
       "    <tr>\n",
       "      <th>4</th>\n",
       "      <td>CPFE3</td>\n",
       "      <td>45317</td>\n",
       "      <td>37.10</td>\n",
       "      <td>2.03</td>\n",
       "      <td>0.02</td>\n",
       "      <td>36.36</td>\n",
       "      <td>187732538</td>\n",
       "      <td>138573955.06</td>\n",
       "      <td>Subiu</td>\n",
       "      <td>CPFL Energia</td>\n",
       "    </tr>\n",
       "    <tr>\n",
       "      <th>...</th>\n",
       "      <td>...</td>\n",
       "      <td>...</td>\n",
       "      <td>...</td>\n",
       "      <td>...</td>\n",
       "      <td>...</td>\n",
       "      <td>...</td>\n",
       "      <td>...</td>\n",
       "      <td>...</td>\n",
       "      <td>...</td>\n",
       "      <td>...</td>\n",
       "    </tr>\n",
       "    <tr>\n",
       "      <th>76</th>\n",
       "      <td>CRFB3</td>\n",
       "      <td>45317</td>\n",
       "      <td>10.71</td>\n",
       "      <td>-2.45</td>\n",
       "      <td>-0.02</td>\n",
       "      <td>10.98</td>\n",
       "      <td>533990587</td>\n",
       "      <td>-143635530.57</td>\n",
       "      <td>Desceu</td>\n",
       "      <td>Carrefour Brasil</td>\n",
       "    </tr>\n",
       "    <tr>\n",
       "      <th>77</th>\n",
       "      <td>BHIA3</td>\n",
       "      <td>45317</td>\n",
       "      <td>8.70</td>\n",
       "      <td>-2.46</td>\n",
       "      <td>-0.02</td>\n",
       "      <td>8.92</td>\n",
       "      <td>94843047</td>\n",
       "      <td>-20810240.84</td>\n",
       "      <td>Desceu</td>\n",
       "      <td>Casas Bahia</td>\n",
       "    </tr>\n",
       "    <tr>\n",
       "      <th>78</th>\n",
       "      <td>RENT3</td>\n",
       "      <td>45317</td>\n",
       "      <td>56.24</td>\n",
       "      <td>-3.63</td>\n",
       "      <td>-0.04</td>\n",
       "      <td>58.36</td>\n",
       "      <td>853202347</td>\n",
       "      <td>-1807432634.46</td>\n",
       "      <td>Desceu</td>\n",
       "      <td>Localiza</td>\n",
       "    </tr>\n",
       "    <tr>\n",
       "      <th>79</th>\n",
       "      <td>CVCB3</td>\n",
       "      <td>45317</td>\n",
       "      <td>3.07</td>\n",
       "      <td>-4.36</td>\n",
       "      <td>-0.04</td>\n",
       "      <td>3.21</td>\n",
       "      <td>525582771</td>\n",
       "      <td>-73557408.06</td>\n",
       "      <td>Desceu</td>\n",
       "      <td>CVC</td>\n",
       "    </tr>\n",
       "    <tr>\n",
       "      <th>80</th>\n",
       "      <td>GOLL4</td>\n",
       "      <td>45317</td>\n",
       "      <td>5.92</td>\n",
       "      <td>-8.07</td>\n",
       "      <td>-0.08</td>\n",
       "      <td>6.44</td>\n",
       "      <td>198184909</td>\n",
       "      <td>-102993202.62</td>\n",
       "      <td>Desceu</td>\n",
       "      <td>GOL</td>\n",
       "    </tr>\n",
       "  </tbody>\n",
       "</table>\n",
       "<p>81 rows × 10 columns</p>\n",
       "</div>"
      ],
      "text/plain": [
       "    Ativo   Data  valor_final  var_dia_pct  var_pct  var_inicial  qtd_teorica  \\\n",
       "0   USIM5  45317         9.50         5.20     0.05         9.03    515117391   \n",
       "1   CMIN3  45317         6.82         2.40     0.02         6.66   1110559345   \n",
       "2   PETR3  45317        41.96         2.19     0.02        41.06  -2147483648   \n",
       "3   SUZB3  45317        52.91         2.04     0.02        51.85    683452836   \n",
       "4   CPFE3  45317        37.10         2.03     0.02        36.36    187732538   \n",
       "..    ...    ...          ...          ...      ...          ...          ...   \n",
       "76  CRFB3  45317        10.71        -2.45    -0.02        10.98    533990587   \n",
       "77  BHIA3  45317         8.70        -2.46    -0.02         8.92     94843047   \n",
       "78  RENT3  45317        56.24        -3.63    -0.04        58.36    853202347   \n",
       "79  CVCB3  45317         3.07        -4.36    -0.04         3.21    525582771   \n",
       "80  GOLL4  45317         5.92        -8.07    -0.08         6.44    198184909   \n",
       "\n",
       "      variacao_rs resultado              Nome  \n",
       "0    241889725.43     Subiu          Usiminas  \n",
       "1    177515970.30     Subiu     CSN Mineração  \n",
       "2   2140059393.53     Subiu         Petrobras  \n",
       "3    722946282.71     Subiu            Suzano  \n",
       "4    138573955.06     Subiu      CPFL Energia  \n",
       "..            ...       ...               ...  \n",
       "76  -143635530.57    Desceu  Carrefour Brasil  \n",
       "77   -20810240.84    Desceu       Casas Bahia  \n",
       "78 -1807432634.46    Desceu          Localiza  \n",
       "79   -73557408.06    Desceu               CVC  \n",
       "80  -102993202.62    Desceu               GOL  \n",
       "\n",
       "[81 rows x 10 columns]"
      ]
     },
     "execution_count": 86,
     "metadata": {},
     "output_type": "execute_result"
    }
   ],
   "source": [
    "df_principal = df_principal.merge(df_ticker, left_on='Ativo', right_on='Ticker', how='left')\n",
    "df_principal = df_principal.drop(columns={'Ticker'})\n",
    "df_principal"
   ]
  },
  {
   "cell_type": "code",
   "execution_count": 87,
   "metadata": {},
   "outputs": [
    {
     "data": {
      "text/html": [
       "<div>\n",
       "<style scoped>\n",
       "    .dataframe tbody tr th:only-of-type {\n",
       "        vertical-align: middle;\n",
       "    }\n",
       "\n",
       "    .dataframe tbody tr th {\n",
       "        vertical-align: top;\n",
       "    }\n",
       "\n",
       "    .dataframe thead th {\n",
       "        text-align: right;\n",
       "    }\n",
       "</style>\n",
       "<table border=\"1\" class=\"dataframe\">\n",
       "  <thead>\n",
       "    <tr style=\"text-align: right;\">\n",
       "      <th></th>\n",
       "      <th>index</th>\n",
       "      <th>Ativo</th>\n",
       "      <th>Data</th>\n",
       "      <th>valor_final</th>\n",
       "      <th>var_dia_pct</th>\n",
       "      <th>var_pct</th>\n",
       "      <th>var_inicial</th>\n",
       "      <th>qtd_teorica</th>\n",
       "      <th>variacao_rs</th>\n",
       "      <th>resultado</th>\n",
       "      <th>Nome</th>\n",
       "      <th>Segmento</th>\n",
       "      <th>idade</th>\n",
       "    </tr>\n",
       "  </thead>\n",
       "  <tbody>\n",
       "    <tr>\n",
       "      <th>0</th>\n",
       "      <td>0</td>\n",
       "      <td>USIM5</td>\n",
       "      <td>45317</td>\n",
       "      <td>9.50</td>\n",
       "      <td>5.20</td>\n",
       "      <td>0.05</td>\n",
       "      <td>9.03</td>\n",
       "      <td>515117391</td>\n",
       "      <td>241889725.43</td>\n",
       "      <td>Subiu</td>\n",
       "      <td>Usiminas</td>\n",
       "      <td>Siderurgia</td>\n",
       "      <td>59</td>\n",
       "    </tr>\n",
       "    <tr>\n",
       "      <th>1</th>\n",
       "      <td>1</td>\n",
       "      <td>CMIN3</td>\n",
       "      <td>45317</td>\n",
       "      <td>6.82</td>\n",
       "      <td>2.40</td>\n",
       "      <td>0.02</td>\n",
       "      <td>6.66</td>\n",
       "      <td>1110559345</td>\n",
       "      <td>177515970.30</td>\n",
       "      <td>Subiu</td>\n",
       "      <td>CSN Mineração</td>\n",
       "      <td>Mineração</td>\n",
       "      <td>0</td>\n",
       "    </tr>\n",
       "    <tr>\n",
       "      <th>2</th>\n",
       "      <td>2</td>\n",
       "      <td>PETR3</td>\n",
       "      <td>45317</td>\n",
       "      <td>41.96</td>\n",
       "      <td>2.19</td>\n",
       "      <td>0.02</td>\n",
       "      <td>41.06</td>\n",
       "      <td>-2147483648</td>\n",
       "      <td>2140059393.53</td>\n",
       "      <td>Subiu</td>\n",
       "      <td>Petrobras</td>\n",
       "      <td>Petróleo</td>\n",
       "      <td>69</td>\n",
       "    </tr>\n",
       "    <tr>\n",
       "      <th>3</th>\n",
       "      <td>4</td>\n",
       "      <td>SUZB3</td>\n",
       "      <td>45317</td>\n",
       "      <td>52.91</td>\n",
       "      <td>2.04</td>\n",
       "      <td>0.02</td>\n",
       "      <td>51.85</td>\n",
       "      <td>683452836</td>\n",
       "      <td>722946282.71</td>\n",
       "      <td>Subiu</td>\n",
       "      <td>Suzano</td>\n",
       "      <td>Papel e Celulose</td>\n",
       "      <td>97</td>\n",
       "    </tr>\n",
       "    <tr>\n",
       "      <th>4</th>\n",
       "      <td>5</td>\n",
       "      <td>CPFE3</td>\n",
       "      <td>45317</td>\n",
       "      <td>37.10</td>\n",
       "      <td>2.03</td>\n",
       "      <td>0.02</td>\n",
       "      <td>36.36</td>\n",
       "      <td>187732538</td>\n",
       "      <td>138573955.06</td>\n",
       "      <td>Subiu</td>\n",
       "      <td>CPFL Energia</td>\n",
       "      <td>Energia Elétrica</td>\n",
       "      <td>108</td>\n",
       "    </tr>\n",
       "    <tr>\n",
       "      <th>...</th>\n",
       "      <td>...</td>\n",
       "      <td>...</td>\n",
       "      <td>...</td>\n",
       "      <td>...</td>\n",
       "      <td>...</td>\n",
       "      <td>...</td>\n",
       "      <td>...</td>\n",
       "      <td>...</td>\n",
       "      <td>...</td>\n",
       "      <td>...</td>\n",
       "      <td>...</td>\n",
       "      <td>...</td>\n",
       "      <td>...</td>\n",
       "    </tr>\n",
       "    <tr>\n",
       "      <th>76</th>\n",
       "      <td>80</td>\n",
       "      <td>CRFB3</td>\n",
       "      <td>45317</td>\n",
       "      <td>10.71</td>\n",
       "      <td>-2.45</td>\n",
       "      <td>-0.02</td>\n",
       "      <td>10.98</td>\n",
       "      <td>533990587</td>\n",
       "      <td>-143635530.57</td>\n",
       "      <td>Desceu</td>\n",
       "      <td>Carrefour Brasil</td>\n",
       "      <td>Varejo</td>\n",
       "      <td>47</td>\n",
       "    </tr>\n",
       "    <tr>\n",
       "      <th>77</th>\n",
       "      <td>81</td>\n",
       "      <td>BHIA3</td>\n",
       "      <td>45317</td>\n",
       "      <td>8.70</td>\n",
       "      <td>-2.46</td>\n",
       "      <td>-0.02</td>\n",
       "      <td>8.92</td>\n",
       "      <td>94843047</td>\n",
       "      <td>-20810240.84</td>\n",
       "      <td>Desceu</td>\n",
       "      <td>Casas Bahia</td>\n",
       "      <td>Varejo</td>\n",
       "      <td>67</td>\n",
       "    </tr>\n",
       "    <tr>\n",
       "      <th>78</th>\n",
       "      <td>82</td>\n",
       "      <td>RENT3</td>\n",
       "      <td>45317</td>\n",
       "      <td>56.24</td>\n",
       "      <td>-3.63</td>\n",
       "      <td>-0.04</td>\n",
       "      <td>58.36</td>\n",
       "      <td>853202347</td>\n",
       "      <td>-1807432634.46</td>\n",
       "      <td>Desceu</td>\n",
       "      <td>Localiza</td>\n",
       "      <td>Aluguel de Carros</td>\n",
       "      <td>48</td>\n",
       "    </tr>\n",
       "    <tr>\n",
       "      <th>79</th>\n",
       "      <td>83</td>\n",
       "      <td>CVCB3</td>\n",
       "      <td>45317</td>\n",
       "      <td>3.07</td>\n",
       "      <td>-4.36</td>\n",
       "      <td>-0.04</td>\n",
       "      <td>3.21</td>\n",
       "      <td>525582771</td>\n",
       "      <td>-73557408.06</td>\n",
       "      <td>Desceu</td>\n",
       "      <td>CVC</td>\n",
       "      <td>Turismo</td>\n",
       "      <td>49</td>\n",
       "    </tr>\n",
       "    <tr>\n",
       "      <th>80</th>\n",
       "      <td>84</td>\n",
       "      <td>GOLL4</td>\n",
       "      <td>45317</td>\n",
       "      <td>5.92</td>\n",
       "      <td>-8.07</td>\n",
       "      <td>-0.08</td>\n",
       "      <td>6.44</td>\n",
       "      <td>198184909</td>\n",
       "      <td>-102993202.62</td>\n",
       "      <td>Desceu</td>\n",
       "      <td>GOL</td>\n",
       "      <td>Transporte Aéreo</td>\n",
       "      <td>20</td>\n",
       "    </tr>\n",
       "  </tbody>\n",
       "</table>\n",
       "<p>81 rows × 13 columns</p>\n",
       "</div>"
      ],
      "text/plain": [
       "    index  Ativo   Data  valor_final  var_dia_pct  var_pct  var_inicial  \\\n",
       "0       0  USIM5  45317         9.50         5.20     0.05         9.03   \n",
       "1       1  CMIN3  45317         6.82         2.40     0.02         6.66   \n",
       "2       2  PETR3  45317        41.96         2.19     0.02        41.06   \n",
       "3       4  SUZB3  45317        52.91         2.04     0.02        51.85   \n",
       "4       5  CPFE3  45317        37.10         2.03     0.02        36.36   \n",
       "..    ...    ...    ...          ...          ...      ...          ...   \n",
       "76     80  CRFB3  45317        10.71        -2.45    -0.02        10.98   \n",
       "77     81  BHIA3  45317         8.70        -2.46    -0.02         8.92   \n",
       "78     82  RENT3  45317        56.24        -3.63    -0.04        58.36   \n",
       "79     83  CVCB3  45317         3.07        -4.36    -0.04         3.21   \n",
       "80     84  GOLL4  45317         5.92        -8.07    -0.08         6.44   \n",
       "\n",
       "    qtd_teorica    variacao_rs resultado              Nome           Segmento  \\\n",
       "0     515117391   241889725.43     Subiu          Usiminas         Siderurgia   \n",
       "1    1110559345   177515970.30     Subiu     CSN Mineração          Mineração   \n",
       "2   -2147483648  2140059393.53     Subiu         Petrobras           Petróleo   \n",
       "3     683452836   722946282.71     Subiu            Suzano   Papel e Celulose   \n",
       "4     187732538   138573955.06     Subiu      CPFL Energia   Energia Elétrica   \n",
       "..          ...            ...       ...               ...                ...   \n",
       "76    533990587  -143635530.57    Desceu  Carrefour Brasil             Varejo   \n",
       "77     94843047   -20810240.84    Desceu       Casas Bahia             Varejo   \n",
       "78    853202347 -1807432634.46    Desceu          Localiza  Aluguel de Carros   \n",
       "79    525582771   -73557408.06    Desceu               CVC            Turismo   \n",
       "80    198184909  -102993202.62    Desceu               GOL   Transporte Aéreo   \n",
       "\n",
       "    idade  \n",
       "0      59  \n",
       "1       0  \n",
       "2      69  \n",
       "3      97  \n",
       "4     108  \n",
       "..    ...  \n",
       "76     47  \n",
       "77     67  \n",
       "78     48  \n",
       "79     49  \n",
       "80     20  \n",
       "\n",
       "[81 rows x 13 columns]"
      ]
     },
     "execution_count": 87,
     "metadata": {},
     "output_type": "execute_result"
    }
   ],
   "source": [
    "df_principal = df_principal.merge(df_chatgpt, left_on='Nome', right_on='Nome da Empresa', how='left')\n",
    "df_principal = df_principal.drop(columns={'Nome da Empresa'})\n",
    "df_principal = df_principal.rename(columns={'Idade em Anos':'idade'}).copy()\n",
    "df_principal = df_principal.drop_duplicates()\n",
    "df_principal = df_principal.reset_index()\n",
    "df_principal"
   ]
  },
  {
   "cell_type": "code",
   "execution_count": 88,
   "metadata": {},
   "outputs": [
    {
     "data": {
      "text/html": [
       "<div>\n",
       "<style scoped>\n",
       "    .dataframe tbody tr th:only-of-type {\n",
       "        vertical-align: middle;\n",
       "    }\n",
       "\n",
       "    .dataframe tbody tr th {\n",
       "        vertical-align: top;\n",
       "    }\n",
       "\n",
       "    .dataframe thead th {\n",
       "        text-align: right;\n",
       "    }\n",
       "</style>\n",
       "<table border=\"1\" class=\"dataframe\">\n",
       "  <thead>\n",
       "    <tr style=\"text-align: right;\">\n",
       "      <th></th>\n",
       "      <th>estatistica</th>\n",
       "      <th>valor</th>\n",
       "    </tr>\n",
       "  </thead>\n",
       "  <tbody>\n",
       "    <tr>\n",
       "      <th>0</th>\n",
       "      <td>maior</td>\n",
       "      <td>4762926995.25</td>\n",
       "    </tr>\n",
       "    <tr>\n",
       "      <th>1</th>\n",
       "      <td>menor</td>\n",
       "      <td>-1807432634.46</td>\n",
       "    </tr>\n",
       "    <tr>\n",
       "      <th>2</th>\n",
       "      <td>media</td>\n",
       "      <td>165190210.48</td>\n",
       "    </tr>\n",
       "    <tr>\n",
       "      <th>3</th>\n",
       "      <td>media_positivos</td>\n",
       "      <td>448164250.23</td>\n",
       "    </tr>\n",
       "    <tr>\n",
       "      <th>4</th>\n",
       "      <td>media_negativos</td>\n",
       "      <td>-181109141.75</td>\n",
       "    </tr>\n",
       "  </tbody>\n",
       "</table>\n",
       "</div>"
      ],
      "text/plain": [
       "       estatistica          valor\n",
       "0            maior  4762926995.25\n",
       "1            menor -1807432634.46\n",
       "2            media   165190210.48\n",
       "3  media_positivos   448164250.23\n",
       "4  media_negativos  -181109141.75"
      ]
     },
     "execution_count": 88,
     "metadata": {},
     "output_type": "execute_result"
    }
   ],
   "source": [
    "maior = df_principal['variacao_rs'].max()\n",
    "menor = df_principal['variacao_rs'].min()\n",
    "media = df_principal['variacao_rs'].mean(numeric_only=True)\n",
    "media_positivos = df_principal[df_principal['resultado'] == 'Subiu']['variacao_rs'].mean()\n",
    "media_negativos = df_principal[df_principal['resultado'] == 'Desceu']['variacao_rs'].mean()\n",
    "dados = {\n",
    "    'estatistica' : ['maior', 'menor', 'media', 'media_positivos', 'media_negativos'],\n",
    "    'valor' : [maior, menor, media, media_positivos, media_negativos]  \n",
    "}\n",
    "df_estatistica = pd.DataFrame(dados)\n",
    "df_estatistica"
   ]
  },
  {
   "cell_type": "code",
   "execution_count": 89,
   "metadata": {},
   "outputs": [
    {
     "data": {
      "text/html": [
       "<div>\n",
       "<style scoped>\n",
       "    .dataframe tbody tr th:only-of-type {\n",
       "        vertical-align: middle;\n",
       "    }\n",
       "\n",
       "    .dataframe tbody tr th {\n",
       "        vertical-align: top;\n",
       "    }\n",
       "\n",
       "    .dataframe thead th {\n",
       "        text-align: right;\n",
       "    }\n",
       "</style>\n",
       "<table border=\"1\" class=\"dataframe\">\n",
       "  <thead>\n",
       "    <tr style=\"text-align: right;\">\n",
       "      <th></th>\n",
       "      <th>index</th>\n",
       "      <th>Ativo</th>\n",
       "      <th>Data</th>\n",
       "      <th>valor_final</th>\n",
       "      <th>var_dia_pct</th>\n",
       "      <th>var_pct</th>\n",
       "      <th>var_inicial</th>\n",
       "      <th>qtd_teorica</th>\n",
       "      <th>variacao_rs</th>\n",
       "      <th>resultado</th>\n",
       "      <th>Nome</th>\n",
       "      <th>Segmento</th>\n",
       "      <th>idade</th>\n",
       "    </tr>\n",
       "  </thead>\n",
       "  <tbody>\n",
       "    <tr>\n",
       "      <th>0</th>\n",
       "      <td>0</td>\n",
       "      <td>USIM5</td>\n",
       "      <td>45317</td>\n",
       "      <td>9.50</td>\n",
       "      <td>5.20</td>\n",
       "      <td>0.05</td>\n",
       "      <td>9.03</td>\n",
       "      <td>515117391</td>\n",
       "      <td>241889725.43</td>\n",
       "      <td>Subiu</td>\n",
       "      <td>Usiminas</td>\n",
       "      <td>Siderurgia</td>\n",
       "      <td>59</td>\n",
       "    </tr>\n",
       "    <tr>\n",
       "      <th>1</th>\n",
       "      <td>1</td>\n",
       "      <td>CMIN3</td>\n",
       "      <td>45317</td>\n",
       "      <td>6.82</td>\n",
       "      <td>2.40</td>\n",
       "      <td>0.02</td>\n",
       "      <td>6.66</td>\n",
       "      <td>1110559345</td>\n",
       "      <td>177515970.30</td>\n",
       "      <td>Subiu</td>\n",
       "      <td>CSN Mineração</td>\n",
       "      <td>Mineração</td>\n",
       "      <td>0</td>\n",
       "    </tr>\n",
       "    <tr>\n",
       "      <th>2</th>\n",
       "      <td>2</td>\n",
       "      <td>PETR3</td>\n",
       "      <td>45317</td>\n",
       "      <td>41.96</td>\n",
       "      <td>2.19</td>\n",
       "      <td>0.02</td>\n",
       "      <td>41.06</td>\n",
       "      <td>-2147483648</td>\n",
       "      <td>2140059393.53</td>\n",
       "      <td>Subiu</td>\n",
       "      <td>Petrobras</td>\n",
       "      <td>Petróleo</td>\n",
       "      <td>69</td>\n",
       "    </tr>\n",
       "    <tr>\n",
       "      <th>3</th>\n",
       "      <td>4</td>\n",
       "      <td>SUZB3</td>\n",
       "      <td>45317</td>\n",
       "      <td>52.91</td>\n",
       "      <td>2.04</td>\n",
       "      <td>0.02</td>\n",
       "      <td>51.85</td>\n",
       "      <td>683452836</td>\n",
       "      <td>722946282.71</td>\n",
       "      <td>Subiu</td>\n",
       "      <td>Suzano</td>\n",
       "      <td>Papel e Celulose</td>\n",
       "      <td>97</td>\n",
       "    </tr>\n",
       "    <tr>\n",
       "      <th>4</th>\n",
       "      <td>5</td>\n",
       "      <td>CPFE3</td>\n",
       "      <td>45317</td>\n",
       "      <td>37.10</td>\n",
       "      <td>2.03</td>\n",
       "      <td>0.02</td>\n",
       "      <td>36.36</td>\n",
       "      <td>187732538</td>\n",
       "      <td>138573955.06</td>\n",
       "      <td>Subiu</td>\n",
       "      <td>CPFL Energia</td>\n",
       "      <td>Energia Elétrica</td>\n",
       "      <td>108</td>\n",
       "    </tr>\n",
       "    <tr>\n",
       "      <th>5</th>\n",
       "      <td>6</td>\n",
       "      <td>PRIO3</td>\n",
       "      <td>45317</td>\n",
       "      <td>45.69</td>\n",
       "      <td>1.98</td>\n",
       "      <td>0.02</td>\n",
       "      <td>44.80</td>\n",
       "      <td>800010734</td>\n",
       "      <td>709687498.18</td>\n",
       "      <td>Subiu</td>\n",
       "      <td>PetroRio</td>\n",
       "      <td>Petróleo</td>\n",
       "      <td>7</td>\n",
       "    </tr>\n",
       "    <tr>\n",
       "      <th>6</th>\n",
       "      <td>7</td>\n",
       "      <td>PETR4</td>\n",
       "      <td>45317</td>\n",
       "      <td>39.96</td>\n",
       "      <td>1.73</td>\n",
       "      <td>0.02</td>\n",
       "      <td>39.28</td>\n",
       "      <td>-2147483648</td>\n",
       "      <td>3103136291.22</td>\n",
       "      <td>Subiu</td>\n",
       "      <td>Petrobras</td>\n",
       "      <td>Petróleo</td>\n",
       "      <td>69</td>\n",
       "    </tr>\n",
       "    <tr>\n",
       "      <th>7</th>\n",
       "      <td>9</td>\n",
       "      <td>VALE3</td>\n",
       "      <td>45317</td>\n",
       "      <td>69.50</td>\n",
       "      <td>1.66</td>\n",
       "      <td>0.02</td>\n",
       "      <td>68.37</td>\n",
       "      <td>-2147483648</td>\n",
       "      <td>4762926995.25</td>\n",
       "      <td>Subiu</td>\n",
       "      <td>Vale</td>\n",
       "      <td>Mineração</td>\n",
       "      <td>79</td>\n",
       "    </tr>\n",
       "    <tr>\n",
       "      <th>8</th>\n",
       "      <td>10</td>\n",
       "      <td>MULT3</td>\n",
       "      <td>45317</td>\n",
       "      <td>28.19</td>\n",
       "      <td>1.58</td>\n",
       "      <td>0.02</td>\n",
       "      <td>27.75</td>\n",
       "      <td>268505432</td>\n",
       "      <td>117732680.08</td>\n",
       "      <td>Subiu</td>\n",
       "      <td>Multiplan</td>\n",
       "      <td>Shopping Centers</td>\n",
       "      <td>52</td>\n",
       "    </tr>\n",
       "    <tr>\n",
       "      <th>9</th>\n",
       "      <td>11</td>\n",
       "      <td>ITUB4</td>\n",
       "      <td>45317</td>\n",
       "      <td>32.81</td>\n",
       "      <td>1.48</td>\n",
       "      <td>0.01</td>\n",
       "      <td>32.33</td>\n",
       "      <td>-2147483648</td>\n",
       "      <td>2297591984.33</td>\n",
       "      <td>Subiu</td>\n",
       "      <td>Itaú Unibanco</td>\n",
       "      <td>Banco</td>\n",
       "      <td>13</td>\n",
       "    </tr>\n",
       "    <tr>\n",
       "      <th>10</th>\n",
       "      <td>12</td>\n",
       "      <td>RDOR3</td>\n",
       "      <td>45317</td>\n",
       "      <td>27.56</td>\n",
       "      <td>1.43</td>\n",
       "      <td>0.01</td>\n",
       "      <td>27.17</td>\n",
       "      <td>1168230366</td>\n",
       "      <td>453917907.01</td>\n",
       "      <td>Subiu</td>\n",
       "      <td>Rede D'Or</td>\n",
       "      <td>Saúde</td>\n",
       "      <td>43</td>\n",
       "    </tr>\n",
       "    <tr>\n",
       "      <th>11</th>\n",
       "      <td>13</td>\n",
       "      <td>BRKM5</td>\n",
       "      <td>45317</td>\n",
       "      <td>18.55</td>\n",
       "      <td>1.42</td>\n",
       "      <td>0.01</td>\n",
       "      <td>18.29</td>\n",
       "      <td>265877867</td>\n",
       "      <td>69054317.64</td>\n",
       "      <td>Subiu</td>\n",
       "      <td>Braskem</td>\n",
       "      <td>Química</td>\n",
       "      <td>20</td>\n",
       "    </tr>\n",
       "    <tr>\n",
       "      <th>12</th>\n",
       "      <td>14</td>\n",
       "      <td>AZUL4</td>\n",
       "      <td>45317</td>\n",
       "      <td>14.27</td>\n",
       "      <td>1.42</td>\n",
       "      <td>0.01</td>\n",
       "      <td>14.07</td>\n",
       "      <td>327593725</td>\n",
       "      <td>65452205.55</td>\n",
       "      <td>Subiu</td>\n",
       "      <td>Azul</td>\n",
       "      <td>Transporte Aéreo</td>\n",
       "      <td>15</td>\n",
       "    </tr>\n",
       "    <tr>\n",
       "      <th>13</th>\n",
       "      <td>15</td>\n",
       "      <td>RRRP3</td>\n",
       "      <td>45317</td>\n",
       "      <td>28.75</td>\n",
       "      <td>1.41</td>\n",
       "      <td>0.01</td>\n",
       "      <td>28.35</td>\n",
       "      <td>235665566</td>\n",
       "      <td>94204643.35</td>\n",
       "      <td>Subiu</td>\n",
       "      <td>3R Petroleum</td>\n",
       "      <td>Petróleo</td>\n",
       "      <td>7</td>\n",
       "    </tr>\n",
       "    <tr>\n",
       "      <th>14</th>\n",
       "      <td>16</td>\n",
       "      <td>EQTL3</td>\n",
       "      <td>45317</td>\n",
       "      <td>35.32</td>\n",
       "      <td>1.34</td>\n",
       "      <td>0.01</td>\n",
       "      <td>34.85</td>\n",
       "      <td>1095587251</td>\n",
       "      <td>511671895.45</td>\n",
       "      <td>Subiu</td>\n",
       "      <td>Equatorial Energia</td>\n",
       "      <td>Energia Elétrica</td>\n",
       "      <td>24</td>\n",
       "    </tr>\n",
       "    <tr>\n",
       "      <th>15</th>\n",
       "      <td>17</td>\n",
       "      <td>CSNA3</td>\n",
       "      <td>45317</td>\n",
       "      <td>18.16</td>\n",
       "      <td>1.33</td>\n",
       "      <td>0.01</td>\n",
       "      <td>17.92</td>\n",
       "      <td>600865451</td>\n",
       "      <td>143220991.46</td>\n",
       "      <td>Subiu</td>\n",
       "      <td>Siderúrgica Nacional</td>\n",
       "      <td>Siderurgia</td>\n",
       "      <td>80</td>\n",
       "    </tr>\n",
       "    <tr>\n",
       "      <th>16</th>\n",
       "      <td>18</td>\n",
       "      <td>YDUQ3</td>\n",
       "      <td>45317</td>\n",
       "      <td>19.77</td>\n",
       "      <td>1.28</td>\n",
       "      <td>0.01</td>\n",
       "      <td>19.52</td>\n",
       "      <td>289347914</td>\n",
       "      <td>72295838.99</td>\n",
       "      <td>Subiu</td>\n",
       "      <td>YDUQS</td>\n",
       "      <td>Educação</td>\n",
       "      <td>57</td>\n",
       "    </tr>\n",
       "    <tr>\n",
       "      <th>17</th>\n",
       "      <td>19</td>\n",
       "      <td>UGPA3</td>\n",
       "      <td>45317</td>\n",
       "      <td>28.31</td>\n",
       "      <td>1.28</td>\n",
       "      <td>0.01</td>\n",
       "      <td>27.95</td>\n",
       "      <td>1086411192</td>\n",
       "      <td>388705223.96</td>\n",
       "      <td>Subiu</td>\n",
       "      <td>Ultrapar</td>\n",
       "      <td>Distribuição de Combustíveis</td>\n",
       "      <td>84</td>\n",
       "    </tr>\n",
       "    <tr>\n",
       "      <th>18</th>\n",
       "      <td>20</td>\n",
       "      <td>MRVE3</td>\n",
       "      <td>45317</td>\n",
       "      <td>8.08</td>\n",
       "      <td>1.25</td>\n",
       "      <td>0.01</td>\n",
       "      <td>7.98</td>\n",
       "      <td>376187582</td>\n",
       "      <td>37525872.38</td>\n",
       "      <td>Subiu</td>\n",
       "      <td>MRV</td>\n",
       "      <td>Construção Civil</td>\n",
       "      <td>42</td>\n",
       "    </tr>\n",
       "    <tr>\n",
       "      <th>19</th>\n",
       "      <td>21</td>\n",
       "      <td>ARZZ3</td>\n",
       "      <td>45317</td>\n",
       "      <td>57.91</td>\n",
       "      <td>1.15</td>\n",
       "      <td>0.01</td>\n",
       "      <td>57.25</td>\n",
       "      <td>62305891</td>\n",
       "      <td>41021792.09</td>\n",
       "      <td>Subiu</td>\n",
       "      <td>Arezzo</td>\n",
       "      <td>Moda</td>\n",
       "      <td>50</td>\n",
       "    </tr>\n",
       "    <tr>\n",
       "      <th>20</th>\n",
       "      <td>22</td>\n",
       "      <td>BBDC4</td>\n",
       "      <td>45317</td>\n",
       "      <td>15.52</td>\n",
       "      <td>1.04</td>\n",
       "      <td>0.01</td>\n",
       "      <td>15.36</td>\n",
       "      <td>-2147483648</td>\n",
       "      <td>822148336.41</td>\n",
       "      <td>Subiu</td>\n",
       "      <td>Banco Bradesco</td>\n",
       "      <td>Banco</td>\n",
       "      <td>78</td>\n",
       "    </tr>\n",
       "    <tr>\n",
       "      <th>21</th>\n",
       "      <td>24</td>\n",
       "      <td>BEEF3</td>\n",
       "      <td>45317</td>\n",
       "      <td>7.19</td>\n",
       "      <td>0.98</td>\n",
       "      <td>0.01</td>\n",
       "      <td>7.12</td>\n",
       "      <td>261036182</td>\n",
       "      <td>18214628.10</td>\n",
       "      <td>Subiu</td>\n",
       "      <td>Minerva</td>\n",
       "      <td>Alimentos</td>\n",
       "      <td>29</td>\n",
       "    </tr>\n",
       "    <tr>\n",
       "      <th>22</th>\n",
       "      <td>25</td>\n",
       "      <td>PCAR3</td>\n",
       "      <td>45317</td>\n",
       "      <td>4.14</td>\n",
       "      <td>0.97</td>\n",
       "      <td>0.01</td>\n",
       "      <td>4.10</td>\n",
       "      <td>159430826</td>\n",
       "      <td>6340916.22</td>\n",
       "      <td>Subiu</td>\n",
       "      <td>Grupo Pão de Açúcar</td>\n",
       "      <td>Varejo</td>\n",
       "      <td>71</td>\n",
       "    </tr>\n",
       "    <tr>\n",
       "      <th>23</th>\n",
       "      <td>26</td>\n",
       "      <td>BRFS3</td>\n",
       "      <td>45317</td>\n",
       "      <td>14.61</td>\n",
       "      <td>0.96</td>\n",
       "      <td>0.01</td>\n",
       "      <td>14.47</td>\n",
       "      <td>1677525446</td>\n",
       "      <td>233045769.57</td>\n",
       "      <td>Subiu</td>\n",
       "      <td>BRF</td>\n",
       "      <td>Alimentos</td>\n",
       "      <td>90</td>\n",
       "    </tr>\n",
       "    <tr>\n",
       "      <th>24</th>\n",
       "      <td>27</td>\n",
       "      <td>VIVT3</td>\n",
       "      <td>45317</td>\n",
       "      <td>51.20</td>\n",
       "      <td>0.88</td>\n",
       "      <td>0.01</td>\n",
       "      <td>50.75</td>\n",
       "      <td>423091712</td>\n",
       "      <td>188965307.06</td>\n",
       "      <td>Subiu</td>\n",
       "      <td>Vivo</td>\n",
       "      <td>Telecomunicações</td>\n",
       "      <td>23</td>\n",
       "    </tr>\n",
       "    <tr>\n",
       "      <th>25</th>\n",
       "      <td>28</td>\n",
       "      <td>RAIL3</td>\n",
       "      <td>45317</td>\n",
       "      <td>22.64</td>\n",
       "      <td>0.84</td>\n",
       "      <td>0.01</td>\n",
       "      <td>22.45</td>\n",
       "      <td>1218352541</td>\n",
       "      <td>229771333.63</td>\n",
       "      <td>Subiu</td>\n",
       "      <td>Rumo</td>\n",
       "      <td>Logística</td>\n",
       "      <td>6</td>\n",
       "    </tr>\n",
       "    <tr>\n",
       "      <th>26</th>\n",
       "      <td>29</td>\n",
       "      <td>CIEL3</td>\n",
       "      <td>45317</td>\n",
       "      <td>4.90</td>\n",
       "      <td>0.82</td>\n",
       "      <td>0.01</td>\n",
       "      <td>4.86</td>\n",
       "      <td>1095462329</td>\n",
       "      <td>43657683.38</td>\n",
       "      <td>Subiu</td>\n",
       "      <td>Cielo</td>\n",
       "      <td>Serviços Financeiros</td>\n",
       "      <td>11</td>\n",
       "    </tr>\n",
       "    <tr>\n",
       "      <th>27</th>\n",
       "      <td>30</td>\n",
       "      <td>DXCO3</td>\n",
       "      <td>45317</td>\n",
       "      <td>7.81</td>\n",
       "      <td>0.77</td>\n",
       "      <td>0.01</td>\n",
       "      <td>7.75</td>\n",
       "      <td>302768240</td>\n",
       "      <td>18068446.61</td>\n",
       "      <td>Subiu</td>\n",
       "      <td>Dexco</td>\n",
       "      <td>Revestimentos Cerâmicos</td>\n",
       "      <td>63</td>\n",
       "    </tr>\n",
       "    <tr>\n",
       "      <th>28</th>\n",
       "      <td>31</td>\n",
       "      <td>TIMS3</td>\n",
       "      <td>45317</td>\n",
       "      <td>17.52</td>\n",
       "      <td>0.74</td>\n",
       "      <td>0.01</td>\n",
       "      <td>17.39</td>\n",
       "      <td>807896814</td>\n",
       "      <td>103972807.37</td>\n",
       "      <td>Subiu</td>\n",
       "      <td>TIM</td>\n",
       "      <td>Telecomunicações</td>\n",
       "      <td>27</td>\n",
       "    </tr>\n",
       "    <tr>\n",
       "      <th>29</th>\n",
       "      <td>32</td>\n",
       "      <td>BRAP4</td>\n",
       "      <td>45317</td>\n",
       "      <td>23.22</td>\n",
       "      <td>0.73</td>\n",
       "      <td>0.01</td>\n",
       "      <td>23.05</td>\n",
       "      <td>251003438</td>\n",
       "      <td>42238249.54</td>\n",
       "      <td>Subiu</td>\n",
       "      <td>Bradespar</td>\n",
       "      <td>Holding</td>\n",
       "      <td>29</td>\n",
       "    </tr>\n",
       "    <tr>\n",
       "      <th>30</th>\n",
       "      <td>33</td>\n",
       "      <td>LWSA3</td>\n",
       "      <td>45317</td>\n",
       "      <td>5.55</td>\n",
       "      <td>0.72</td>\n",
       "      <td>0.01</td>\n",
       "      <td>5.51</td>\n",
       "      <td>393173139</td>\n",
       "      <td>15598886.65</td>\n",
       "      <td>Subiu</td>\n",
       "      <td>Locaweb</td>\n",
       "      <td>Tecnologia</td>\n",
       "      <td>24</td>\n",
       "    </tr>\n",
       "    <tr>\n",
       "      <th>31</th>\n",
       "      <td>34</td>\n",
       "      <td>RECV3</td>\n",
       "      <td>45317</td>\n",
       "      <td>23.83</td>\n",
       "      <td>0.71</td>\n",
       "      <td>0.01</td>\n",
       "      <td>23.66</td>\n",
       "      <td>275005663</td>\n",
       "      <td>46201006.00</td>\n",
       "      <td>Subiu</td>\n",
       "      <td>PetroRecôncavo</td>\n",
       "      <td>Petróleo</td>\n",
       "      <td>16</td>\n",
       "    </tr>\n",
       "    <tr>\n",
       "      <th>32</th>\n",
       "      <td>35</td>\n",
       "      <td>ITSA4</td>\n",
       "      <td>45317</td>\n",
       "      <td>10.01</td>\n",
       "      <td>0.70</td>\n",
       "      <td>0.01</td>\n",
       "      <td>9.94</td>\n",
       "      <td>-2147483648</td>\n",
       "      <td>373853994.88</td>\n",
       "      <td>Subiu</td>\n",
       "      <td>Itaúsa</td>\n",
       "      <td>Holding</td>\n",
       "      <td>56</td>\n",
       "    </tr>\n",
       "    <tr>\n",
       "      <th>33</th>\n",
       "      <td>36</td>\n",
       "      <td>BBAS3</td>\n",
       "      <td>45317</td>\n",
       "      <td>56.97</td>\n",
       "      <td>0.68</td>\n",
       "      <td>0.01</td>\n",
       "      <td>56.59</td>\n",
       "      <td>1420949112</td>\n",
       "      <td>546752087.99</td>\n",
       "      <td>Subiu</td>\n",
       "      <td>Banco do Brasil</td>\n",
       "      <td>Banco</td>\n",
       "      <td>213</td>\n",
       "    </tr>\n",
       "    <tr>\n",
       "      <th>34</th>\n",
       "      <td>37</td>\n",
       "      <td>RADL3</td>\n",
       "      <td>45317</td>\n",
       "      <td>26.16</td>\n",
       "      <td>0.61</td>\n",
       "      <td>0.01</td>\n",
       "      <td>26.00</td>\n",
       "      <td>1275798515</td>\n",
       "      <td>202352473.74</td>\n",
       "      <td>Subiu</td>\n",
       "      <td>RaiaDrogasil</td>\n",
       "      <td>Varejo/Farmácia</td>\n",
       "      <td>117</td>\n",
       "    </tr>\n",
       "    <tr>\n",
       "      <th>35</th>\n",
       "      <td>38</td>\n",
       "      <td>GOAU4</td>\n",
       "      <td>45317</td>\n",
       "      <td>10.08</td>\n",
       "      <td>0.59</td>\n",
       "      <td>0.01</td>\n",
       "      <td>10.02</td>\n",
       "      <td>660411219</td>\n",
       "      <td>39045606.94</td>\n",
       "      <td>Subiu</td>\n",
       "      <td>Metalúrgica Gerdau</td>\n",
       "      <td>Siderurgia</td>\n",
       "      <td>120</td>\n",
       "    </tr>\n",
       "    <tr>\n",
       "      <th>36</th>\n",
       "      <td>39</td>\n",
       "      <td>CSAN3</td>\n",
       "      <td>45317</td>\n",
       "      <td>18.57</td>\n",
       "      <td>0.59</td>\n",
       "      <td>0.01</td>\n",
       "      <td>18.46</td>\n",
       "      <td>1168097881</td>\n",
       "      <td>127229653.18</td>\n",
       "      <td>Subiu</td>\n",
       "      <td>Cosan</td>\n",
       "      <td>Energia/Açúcar</td>\n",
       "      <td>24</td>\n",
       "    </tr>\n",
       "    <tr>\n",
       "      <th>37</th>\n",
       "      <td>40</td>\n",
       "      <td>JBSS3</td>\n",
       "      <td>45317</td>\n",
       "      <td>24.34</td>\n",
       "      <td>0.57</td>\n",
       "      <td>0.01</td>\n",
       "      <td>24.20</td>\n",
       "      <td>1134986472</td>\n",
       "      <td>156573285.43</td>\n",
       "      <td>Subiu</td>\n",
       "      <td>JBS</td>\n",
       "      <td>Alimentos</td>\n",
       "      <td>69</td>\n",
       "    </tr>\n",
       "    <tr>\n",
       "      <th>38</th>\n",
       "      <td>41</td>\n",
       "      <td>MGLU3</td>\n",
       "      <td>45317</td>\n",
       "      <td>2.08</td>\n",
       "      <td>0.48</td>\n",
       "      <td>0.00</td>\n",
       "      <td>2.07</td>\n",
       "      <td>-2147483648</td>\n",
       "      <td>28493619.27</td>\n",
       "      <td>Subiu</td>\n",
       "      <td>Magazine Luiza</td>\n",
       "      <td>Varejo</td>\n",
       "      <td>65</td>\n",
       "    </tr>\n",
       "    <tr>\n",
       "      <th>39</th>\n",
       "      <td>42</td>\n",
       "      <td>BBDC3</td>\n",
       "      <td>45317</td>\n",
       "      <td>13.75</td>\n",
       "      <td>0.36</td>\n",
       "      <td>0.00</td>\n",
       "      <td>13.70</td>\n",
       "      <td>1500728902</td>\n",
       "      <td>74019610.05</td>\n",
       "      <td>Subiu</td>\n",
       "      <td>Banco Bradesco</td>\n",
       "      <td>Banco</td>\n",
       "      <td>78</td>\n",
       "    </tr>\n",
       "    <tr>\n",
       "      <th>40</th>\n",
       "      <td>44</td>\n",
       "      <td>GGBR4</td>\n",
       "      <td>45317</td>\n",
       "      <td>21.84</td>\n",
       "      <td>0.27</td>\n",
       "      <td>0.00</td>\n",
       "      <td>21.78</td>\n",
       "      <td>1118525506</td>\n",
       "      <td>65779607.10</td>\n",
       "      <td>Subiu</td>\n",
       "      <td>Gerdau</td>\n",
       "      <td>Siderurgia</td>\n",
       "      <td>120</td>\n",
       "    </tr>\n",
       "    <tr>\n",
       "      <th>41</th>\n",
       "      <td>45</td>\n",
       "      <td>RAIZ4</td>\n",
       "      <td>45317</td>\n",
       "      <td>3.74</td>\n",
       "      <td>0.26</td>\n",
       "      <td>0.00</td>\n",
       "      <td>3.73</td>\n",
       "      <td>1193047233</td>\n",
       "      <td>11571106.42</td>\n",
       "      <td>Subiu</td>\n",
       "      <td>Raízen</td>\n",
       "      <td>Energia/Açúcar</td>\n",
       "      <td>11</td>\n",
       "    </tr>\n",
       "    <tr>\n",
       "      <th>42</th>\n",
       "      <td>46</td>\n",
       "      <td>CPLE6</td>\n",
       "      <td>45317</td>\n",
       "      <td>10.07</td>\n",
       "      <td>0.19</td>\n",
       "      <td>0.00</td>\n",
       "      <td>10.05</td>\n",
       "      <td>1679335290</td>\n",
       "      <td>32069789.50</td>\n",
       "      <td>Subiu</td>\n",
       "      <td>Copel</td>\n",
       "      <td>Energia Elétrica</td>\n",
       "      <td>68</td>\n",
       "    </tr>\n",
       "    <tr>\n",
       "      <th>43</th>\n",
       "      <td>47</td>\n",
       "      <td>VAMO3</td>\n",
       "      <td>45317</td>\n",
       "      <td>8.18</td>\n",
       "      <td>0.12</td>\n",
       "      <td>0.00</td>\n",
       "      <td>8.17</td>\n",
       "      <td>421383330</td>\n",
       "      <td>4131341.16</td>\n",
       "      <td>Subiu</td>\n",
       "      <td>Grupo Vamos</td>\n",
       "      <td>Logística</td>\n",
       "      <td>15</td>\n",
       "    </tr>\n",
       "  </tbody>\n",
       "</table>\n",
       "</div>"
      ],
      "text/plain": [
       "    index  Ativo   Data  valor_final  var_dia_pct  var_pct  var_inicial  \\\n",
       "0       0  USIM5  45317         9.50         5.20     0.05         9.03   \n",
       "1       1  CMIN3  45317         6.82         2.40     0.02         6.66   \n",
       "2       2  PETR3  45317        41.96         2.19     0.02        41.06   \n",
       "3       4  SUZB3  45317        52.91         2.04     0.02        51.85   \n",
       "4       5  CPFE3  45317        37.10         2.03     0.02        36.36   \n",
       "5       6  PRIO3  45317        45.69         1.98     0.02        44.80   \n",
       "6       7  PETR4  45317        39.96         1.73     0.02        39.28   \n",
       "7       9  VALE3  45317        69.50         1.66     0.02        68.37   \n",
       "8      10  MULT3  45317        28.19         1.58     0.02        27.75   \n",
       "9      11  ITUB4  45317        32.81         1.48     0.01        32.33   \n",
       "10     12  RDOR3  45317        27.56         1.43     0.01        27.17   \n",
       "11     13  BRKM5  45317        18.55         1.42     0.01        18.29   \n",
       "12     14  AZUL4  45317        14.27         1.42     0.01        14.07   \n",
       "13     15  RRRP3  45317        28.75         1.41     0.01        28.35   \n",
       "14     16  EQTL3  45317        35.32         1.34     0.01        34.85   \n",
       "15     17  CSNA3  45317        18.16         1.33     0.01        17.92   \n",
       "16     18  YDUQ3  45317        19.77         1.28     0.01        19.52   \n",
       "17     19  UGPA3  45317        28.31         1.28     0.01        27.95   \n",
       "18     20  MRVE3  45317         8.08         1.25     0.01         7.98   \n",
       "19     21  ARZZ3  45317        57.91         1.15     0.01        57.25   \n",
       "20     22  BBDC4  45317        15.52         1.04     0.01        15.36   \n",
       "21     24  BEEF3  45317         7.19         0.98     0.01         7.12   \n",
       "22     25  PCAR3  45317         4.14         0.97     0.01         4.10   \n",
       "23     26  BRFS3  45317        14.61         0.96     0.01        14.47   \n",
       "24     27  VIVT3  45317        51.20         0.88     0.01        50.75   \n",
       "25     28  RAIL3  45317        22.64         0.84     0.01        22.45   \n",
       "26     29  CIEL3  45317         4.90         0.82     0.01         4.86   \n",
       "27     30  DXCO3  45317         7.81         0.77     0.01         7.75   \n",
       "28     31  TIMS3  45317        17.52         0.74     0.01        17.39   \n",
       "29     32  BRAP4  45317        23.22         0.73     0.01        23.05   \n",
       "30     33  LWSA3  45317         5.55         0.72     0.01         5.51   \n",
       "31     34  RECV3  45317        23.83         0.71     0.01        23.66   \n",
       "32     35  ITSA4  45317        10.01         0.70     0.01         9.94   \n",
       "33     36  BBAS3  45317        56.97         0.68     0.01        56.59   \n",
       "34     37  RADL3  45317        26.16         0.61     0.01        26.00   \n",
       "35     38  GOAU4  45317        10.08         0.59     0.01        10.02   \n",
       "36     39  CSAN3  45317        18.57         0.59     0.01        18.46   \n",
       "37     40  JBSS3  45317        24.34         0.57     0.01        24.20   \n",
       "38     41  MGLU3  45317         2.08         0.48     0.00         2.07   \n",
       "39     42  BBDC3  45317        13.75         0.36     0.00        13.70   \n",
       "40     44  GGBR4  45317        21.84         0.27     0.00        21.78   \n",
       "41     45  RAIZ4  45317         3.74         0.26     0.00         3.73   \n",
       "42     46  CPLE6  45317        10.07         0.19     0.00        10.05   \n",
       "43     47  VAMO3  45317         8.18         0.12     0.00         8.17   \n",
       "\n",
       "    qtd_teorica   variacao_rs resultado                  Nome  \\\n",
       "0     515117391  241889725.43     Subiu              Usiminas   \n",
       "1    1110559345  177515970.30     Subiu         CSN Mineração   \n",
       "2   -2147483648 2140059393.53     Subiu             Petrobras   \n",
       "3     683452836  722946282.71     Subiu                Suzano   \n",
       "4     187732538  138573955.06     Subiu          CPFL Energia   \n",
       "5     800010734  709687498.18     Subiu              PetroRio   \n",
       "6   -2147483648 3103136291.22     Subiu             Petrobras   \n",
       "7   -2147483648 4762926995.25     Subiu                  Vale   \n",
       "8     268505432  117732680.08     Subiu             Multiplan   \n",
       "9   -2147483648 2297591984.33     Subiu         Itaú Unibanco   \n",
       "10   1168230366  453917907.01     Subiu             Rede D'Or   \n",
       "11    265877867   69054317.64     Subiu               Braskem   \n",
       "12    327593725   65452205.55     Subiu                  Azul   \n",
       "13    235665566   94204643.35     Subiu          3R Petroleum   \n",
       "14   1095587251  511671895.45     Subiu    Equatorial Energia   \n",
       "15    600865451  143220991.46     Subiu  Siderúrgica Nacional   \n",
       "16    289347914   72295838.99     Subiu                 YDUQS   \n",
       "17   1086411192  388705223.96     Subiu              Ultrapar   \n",
       "18    376187582   37525872.38     Subiu                   MRV   \n",
       "19     62305891   41021792.09     Subiu                Arezzo   \n",
       "20  -2147483648  822148336.41     Subiu        Banco Bradesco   \n",
       "21    261036182   18214628.10     Subiu               Minerva   \n",
       "22    159430826    6340916.22     Subiu   Grupo Pão de Açúcar   \n",
       "23   1677525446  233045769.57     Subiu                   BRF   \n",
       "24    423091712  188965307.06     Subiu                  Vivo   \n",
       "25   1218352541  229771333.63     Subiu                  Rumo   \n",
       "26   1095462329   43657683.38     Subiu                 Cielo   \n",
       "27    302768240   18068446.61     Subiu                 Dexco   \n",
       "28    807896814  103972807.37     Subiu                   TIM   \n",
       "29    251003438   42238249.54     Subiu             Bradespar   \n",
       "30    393173139   15598886.65     Subiu               Locaweb   \n",
       "31    275005663   46201006.00     Subiu        PetroRecôncavo   \n",
       "32  -2147483648  373853994.88     Subiu                Itaúsa   \n",
       "33   1420949112  546752087.99     Subiu       Banco do Brasil   \n",
       "34   1275798515  202352473.74     Subiu          RaiaDrogasil   \n",
       "35    660411219   39045606.94     Subiu    Metalúrgica Gerdau   \n",
       "36   1168097881  127229653.18     Subiu                 Cosan   \n",
       "37   1134986472  156573285.43     Subiu                   JBS   \n",
       "38  -2147483648   28493619.27     Subiu        Magazine Luiza   \n",
       "39   1500728902   74019610.05     Subiu        Banco Bradesco   \n",
       "40   1118525506   65779607.10     Subiu                Gerdau   \n",
       "41   1193047233   11571106.42     Subiu                Raízen   \n",
       "42   1679335290   32069789.50     Subiu                 Copel   \n",
       "43    421383330    4131341.16     Subiu           Grupo Vamos   \n",
       "\n",
       "                        Segmento  idade  \n",
       "0                     Siderurgia     59  \n",
       "1                      Mineração      0  \n",
       "2                       Petróleo     69  \n",
       "3               Papel e Celulose     97  \n",
       "4               Energia Elétrica    108  \n",
       "5                       Petróleo      7  \n",
       "6                       Petróleo     69  \n",
       "7                      Mineração     79  \n",
       "8               Shopping Centers     52  \n",
       "9                          Banco     13  \n",
       "10                         Saúde     43  \n",
       "11                       Química     20  \n",
       "12              Transporte Aéreo     15  \n",
       "13                      Petróleo      7  \n",
       "14              Energia Elétrica     24  \n",
       "15                    Siderurgia     80  \n",
       "16                      Educação     57  \n",
       "17  Distribuição de Combustíveis     84  \n",
       "18              Construção Civil     42  \n",
       "19                          Moda     50  \n",
       "20                         Banco     78  \n",
       "21                     Alimentos     29  \n",
       "22                        Varejo     71  \n",
       "23                     Alimentos     90  \n",
       "24              Telecomunicações     23  \n",
       "25                     Logística      6  \n",
       "26          Serviços Financeiros     11  \n",
       "27       Revestimentos Cerâmicos     63  \n",
       "28              Telecomunicações     27  \n",
       "29                       Holding     29  \n",
       "30                    Tecnologia     24  \n",
       "31                      Petróleo     16  \n",
       "32                       Holding     56  \n",
       "33                         Banco    213  \n",
       "34               Varejo/Farmácia    117  \n",
       "35                    Siderurgia    120  \n",
       "36                Energia/Açúcar     24  \n",
       "37                     Alimentos     69  \n",
       "38                        Varejo     65  \n",
       "39                         Banco     78  \n",
       "40                    Siderurgia    120  \n",
       "41                Energia/Açúcar     11  \n",
       "42              Energia Elétrica     68  \n",
       "43                     Logística     15  "
      ]
     },
     "execution_count": 89,
     "metadata": {},
     "output_type": "execute_result"
    }
   ],
   "source": [
    "df_principal_subiu = df_principal[df_principal['resultado'] == 'Subiu']\n",
    "df_principal_subiu"
   ]
  },
  {
   "cell_type": "code",
   "execution_count": 90,
   "metadata": {},
   "outputs": [
    {
     "data": {
      "text/html": [
       "<div>\n",
       "<style scoped>\n",
       "    .dataframe tbody tr th:only-of-type {\n",
       "        vertical-align: middle;\n",
       "    }\n",
       "\n",
       "    .dataframe tbody tr th {\n",
       "        vertical-align: top;\n",
       "    }\n",
       "\n",
       "    .dataframe thead th {\n",
       "        text-align: right;\n",
       "    }\n",
       "</style>\n",
       "<table border=\"1\" class=\"dataframe\">\n",
       "  <thead>\n",
       "    <tr style=\"text-align: right;\">\n",
       "      <th></th>\n",
       "      <th>Segmento</th>\n",
       "      <th>variacao_rs</th>\n",
       "    </tr>\n",
       "  </thead>\n",
       "  <tbody>\n",
       "    <tr>\n",
       "      <th>0</th>\n",
       "      <td>Alimentos</td>\n",
       "      <td>407833683.09</td>\n",
       "    </tr>\n",
       "    <tr>\n",
       "      <th>1</th>\n",
       "      <td>Banco</td>\n",
       "      <td>3740512018.78</td>\n",
       "    </tr>\n",
       "    <tr>\n",
       "      <th>2</th>\n",
       "      <td>Construção Civil</td>\n",
       "      <td>37525872.38</td>\n",
       "    </tr>\n",
       "    <tr>\n",
       "      <th>3</th>\n",
       "      <td>Distribuição de Combustíveis</td>\n",
       "      <td>388705223.96</td>\n",
       "    </tr>\n",
       "    <tr>\n",
       "      <th>4</th>\n",
       "      <td>Educação</td>\n",
       "      <td>72295838.99</td>\n",
       "    </tr>\n",
       "    <tr>\n",
       "      <th>5</th>\n",
       "      <td>Energia Elétrica</td>\n",
       "      <td>682315640.01</td>\n",
       "    </tr>\n",
       "    <tr>\n",
       "      <th>6</th>\n",
       "      <td>Energia/Açúcar</td>\n",
       "      <td>138800759.60</td>\n",
       "    </tr>\n",
       "    <tr>\n",
       "      <th>7</th>\n",
       "      <td>Holding</td>\n",
       "      <td>416092244.42</td>\n",
       "    </tr>\n",
       "    <tr>\n",
       "      <th>8</th>\n",
       "      <td>Logística</td>\n",
       "      <td>233902674.79</td>\n",
       "    </tr>\n",
       "    <tr>\n",
       "      <th>9</th>\n",
       "      <td>Mineração</td>\n",
       "      <td>4940442965.55</td>\n",
       "    </tr>\n",
       "    <tr>\n",
       "      <th>10</th>\n",
       "      <td>Moda</td>\n",
       "      <td>41021792.09</td>\n",
       "    </tr>\n",
       "    <tr>\n",
       "      <th>11</th>\n",
       "      <td>Papel e Celulose</td>\n",
       "      <td>722946282.71</td>\n",
       "    </tr>\n",
       "    <tr>\n",
       "      <th>12</th>\n",
       "      <td>Petróleo</td>\n",
       "      <td>6093288832.26</td>\n",
       "    </tr>\n",
       "    <tr>\n",
       "      <th>13</th>\n",
       "      <td>Química</td>\n",
       "      <td>69054317.64</td>\n",
       "    </tr>\n",
       "    <tr>\n",
       "      <th>14</th>\n",
       "      <td>Revestimentos Cerâmicos</td>\n",
       "      <td>18068446.61</td>\n",
       "    </tr>\n",
       "    <tr>\n",
       "      <th>15</th>\n",
       "      <td>Saúde</td>\n",
       "      <td>453917907.01</td>\n",
       "    </tr>\n",
       "    <tr>\n",
       "      <th>16</th>\n",
       "      <td>Serviços Financeiros</td>\n",
       "      <td>43657683.38</td>\n",
       "    </tr>\n",
       "    <tr>\n",
       "      <th>17</th>\n",
       "      <td>Shopping Centers</td>\n",
       "      <td>117732680.08</td>\n",
       "    </tr>\n",
       "    <tr>\n",
       "      <th>18</th>\n",
       "      <td>Siderurgia</td>\n",
       "      <td>489935930.93</td>\n",
       "    </tr>\n",
       "    <tr>\n",
       "      <th>19</th>\n",
       "      <td>Tecnologia</td>\n",
       "      <td>15598886.65</td>\n",
       "    </tr>\n",
       "    <tr>\n",
       "      <th>20</th>\n",
       "      <td>Telecomunicações</td>\n",
       "      <td>292938114.42</td>\n",
       "    </tr>\n",
       "    <tr>\n",
       "      <th>21</th>\n",
       "      <td>Transporte Aéreo</td>\n",
       "      <td>65452205.55</td>\n",
       "    </tr>\n",
       "    <tr>\n",
       "      <th>22</th>\n",
       "      <td>Varejo</td>\n",
       "      <td>34834535.50</td>\n",
       "    </tr>\n",
       "    <tr>\n",
       "      <th>23</th>\n",
       "      <td>Varejo/Farmácia</td>\n",
       "      <td>202352473.74</td>\n",
       "    </tr>\n",
       "  </tbody>\n",
       "</table>\n",
       "</div>"
      ],
      "text/plain": [
       "                        Segmento   variacao_rs\n",
       "0                      Alimentos  407833683.09\n",
       "1                          Banco 3740512018.78\n",
       "2               Construção Civil   37525872.38\n",
       "3   Distribuição de Combustíveis  388705223.96\n",
       "4                       Educação   72295838.99\n",
       "5               Energia Elétrica  682315640.01\n",
       "6                 Energia/Açúcar  138800759.60\n",
       "7                        Holding  416092244.42\n",
       "8                      Logística  233902674.79\n",
       "9                      Mineração 4940442965.55\n",
       "10                          Moda   41021792.09\n",
       "11              Papel e Celulose  722946282.71\n",
       "12                      Petróleo 6093288832.26\n",
       "13                       Química   69054317.64\n",
       "14       Revestimentos Cerâmicos   18068446.61\n",
       "15                         Saúde  453917907.01\n",
       "16          Serviços Financeiros   43657683.38\n",
       "17              Shopping Centers  117732680.08\n",
       "18                    Siderurgia  489935930.93\n",
       "19                    Tecnologia   15598886.65\n",
       "20              Telecomunicações  292938114.42\n",
       "21              Transporte Aéreo   65452205.55\n",
       "22                        Varejo   34834535.50\n",
       "23               Varejo/Farmácia  202352473.74"
      ]
     },
     "execution_count": 90,
     "metadata": {},
     "output_type": "execute_result"
    }
   ],
   "source": [
    "df_analise_segmento = df_principal_subiu.groupby('Segmento')['variacao_rs'].sum().reset_index()\n",
    "df_analise_segmento"
   ]
  },
  {
   "cell_type": "code",
   "execution_count": 91,
   "metadata": {},
   "outputs": [
    {
     "data": {
      "text/html": [
       "<div>\n",
       "<style scoped>\n",
       "    .dataframe tbody tr th:only-of-type {\n",
       "        vertical-align: middle;\n",
       "    }\n",
       "\n",
       "    .dataframe tbody tr th {\n",
       "        vertical-align: top;\n",
       "    }\n",
       "\n",
       "    .dataframe thead th {\n",
       "        text-align: right;\n",
       "    }\n",
       "</style>\n",
       "<table border=\"1\" class=\"dataframe\">\n",
       "  <thead>\n",
       "    <tr style=\"text-align: right;\">\n",
       "      <th></th>\n",
       "      <th>resultado</th>\n",
       "      <th>variacao_rs</th>\n",
       "    </tr>\n",
       "  </thead>\n",
       "  <tbody>\n",
       "    <tr>\n",
       "      <th>0</th>\n",
       "      <td>Desceu</td>\n",
       "      <td>-6338819961.32</td>\n",
       "    </tr>\n",
       "    <tr>\n",
       "      <th>1</th>\n",
       "      <td>Estável</td>\n",
       "      <td>0.00</td>\n",
       "    </tr>\n",
       "    <tr>\n",
       "      <th>2</th>\n",
       "      <td>Subiu</td>\n",
       "      <td>19719227010.14</td>\n",
       "    </tr>\n",
       "  </tbody>\n",
       "</table>\n",
       "</div>"
      ],
      "text/plain": [
       "  resultado    variacao_rs\n",
       "0    Desceu -6338819961.32\n",
       "1   Estável           0.00\n",
       "2     Subiu 19719227010.14"
      ]
     },
     "execution_count": 91,
     "metadata": {},
     "output_type": "execute_result"
    }
   ],
   "source": [
    "df_analise_saldo = df_principal.groupby('resultado')['variacao_rs'].sum().reset_index()\n",
    "df_analise_saldo"
   ]
  },
  {
   "cell_type": "code",
   "execution_count": 92,
   "metadata": {},
   "outputs": [],
   "source": [
    "import plotly.express as px"
   ]
  },
  {
   "cell_type": "code",
   "execution_count": 93,
   "metadata": {},
   "outputs": [
    {
     "data": {
      "application/vnd.plotly.v1+json": {
       "config": {
        "plotlyServerURL": "https://plot.ly"
       },
       "data": [
        {
         "alignmentgroup": "True",
         "hovertemplate": "variacao_rs=%{text}<br>resultado=%{y}<extra></extra>",
         "legendgroup": "",
         "marker": {
          "color": "#636efa",
          "pattern": {
           "shape": ""
          }
         },
         "name": "",
         "offsetgroup": "",
         "orientation": "h",
         "showlegend": false,
         "text": [
          -6338819961.31535,
          0,
          19719227010.14191
         ],
         "textposition": "auto",
         "texttemplate": "%{x:,.2f}",
         "type": "bar",
         "x": [
          -6338819961.31535,
          0,
          19719227010.14191
         ],
         "xaxis": "x",
         "y": [
          "Desceu",
          "Estável",
          "Subiu"
         ],
         "yaxis": "y"
        }
       ],
       "layout": {
        "barmode": "relative",
        "legend": {
         "tracegroupgap": 0
        },
        "template": {
         "data": {
          "bar": [
           {
            "error_x": {
             "color": "#2a3f5f"
            },
            "error_y": {
             "color": "#2a3f5f"
            },
            "marker": {
             "line": {
              "color": "#E5ECF6",
              "width": 0.5
             },
             "pattern": {
              "fillmode": "overlay",
              "size": 10,
              "solidity": 0.2
             }
            },
            "type": "bar"
           }
          ],
          "barpolar": [
           {
            "marker": {
             "line": {
              "color": "#E5ECF6",
              "width": 0.5
             },
             "pattern": {
              "fillmode": "overlay",
              "size": 10,
              "solidity": 0.2
             }
            },
            "type": "barpolar"
           }
          ],
          "carpet": [
           {
            "aaxis": {
             "endlinecolor": "#2a3f5f",
             "gridcolor": "white",
             "linecolor": "white",
             "minorgridcolor": "white",
             "startlinecolor": "#2a3f5f"
            },
            "baxis": {
             "endlinecolor": "#2a3f5f",
             "gridcolor": "white",
             "linecolor": "white",
             "minorgridcolor": "white",
             "startlinecolor": "#2a3f5f"
            },
            "type": "carpet"
           }
          ],
          "choropleth": [
           {
            "colorbar": {
             "outlinewidth": 0,
             "ticks": ""
            },
            "type": "choropleth"
           }
          ],
          "contour": [
           {
            "colorbar": {
             "outlinewidth": 0,
             "ticks": ""
            },
            "colorscale": [
             [
              0,
              "#0d0887"
             ],
             [
              0.1111111111111111,
              "#46039f"
             ],
             [
              0.2222222222222222,
              "#7201a8"
             ],
             [
              0.3333333333333333,
              "#9c179e"
             ],
             [
              0.4444444444444444,
              "#bd3786"
             ],
             [
              0.5555555555555556,
              "#d8576b"
             ],
             [
              0.6666666666666666,
              "#ed7953"
             ],
             [
              0.7777777777777778,
              "#fb9f3a"
             ],
             [
              0.8888888888888888,
              "#fdca26"
             ],
             [
              1,
              "#f0f921"
             ]
            ],
            "type": "contour"
           }
          ],
          "contourcarpet": [
           {
            "colorbar": {
             "outlinewidth": 0,
             "ticks": ""
            },
            "type": "contourcarpet"
           }
          ],
          "heatmap": [
           {
            "colorbar": {
             "outlinewidth": 0,
             "ticks": ""
            },
            "colorscale": [
             [
              0,
              "#0d0887"
             ],
             [
              0.1111111111111111,
              "#46039f"
             ],
             [
              0.2222222222222222,
              "#7201a8"
             ],
             [
              0.3333333333333333,
              "#9c179e"
             ],
             [
              0.4444444444444444,
              "#bd3786"
             ],
             [
              0.5555555555555556,
              "#d8576b"
             ],
             [
              0.6666666666666666,
              "#ed7953"
             ],
             [
              0.7777777777777778,
              "#fb9f3a"
             ],
             [
              0.8888888888888888,
              "#fdca26"
             ],
             [
              1,
              "#f0f921"
             ]
            ],
            "type": "heatmap"
           }
          ],
          "heatmapgl": [
           {
            "colorbar": {
             "outlinewidth": 0,
             "ticks": ""
            },
            "colorscale": [
             [
              0,
              "#0d0887"
             ],
             [
              0.1111111111111111,
              "#46039f"
             ],
             [
              0.2222222222222222,
              "#7201a8"
             ],
             [
              0.3333333333333333,
              "#9c179e"
             ],
             [
              0.4444444444444444,
              "#bd3786"
             ],
             [
              0.5555555555555556,
              "#d8576b"
             ],
             [
              0.6666666666666666,
              "#ed7953"
             ],
             [
              0.7777777777777778,
              "#fb9f3a"
             ],
             [
              0.8888888888888888,
              "#fdca26"
             ],
             [
              1,
              "#f0f921"
             ]
            ],
            "type": "heatmapgl"
           }
          ],
          "histogram": [
           {
            "marker": {
             "pattern": {
              "fillmode": "overlay",
              "size": 10,
              "solidity": 0.2
             }
            },
            "type": "histogram"
           }
          ],
          "histogram2d": [
           {
            "colorbar": {
             "outlinewidth": 0,
             "ticks": ""
            },
            "colorscale": [
             [
              0,
              "#0d0887"
             ],
             [
              0.1111111111111111,
              "#46039f"
             ],
             [
              0.2222222222222222,
              "#7201a8"
             ],
             [
              0.3333333333333333,
              "#9c179e"
             ],
             [
              0.4444444444444444,
              "#bd3786"
             ],
             [
              0.5555555555555556,
              "#d8576b"
             ],
             [
              0.6666666666666666,
              "#ed7953"
             ],
             [
              0.7777777777777778,
              "#fb9f3a"
             ],
             [
              0.8888888888888888,
              "#fdca26"
             ],
             [
              1,
              "#f0f921"
             ]
            ],
            "type": "histogram2d"
           }
          ],
          "histogram2dcontour": [
           {
            "colorbar": {
             "outlinewidth": 0,
             "ticks": ""
            },
            "colorscale": [
             [
              0,
              "#0d0887"
             ],
             [
              0.1111111111111111,
              "#46039f"
             ],
             [
              0.2222222222222222,
              "#7201a8"
             ],
             [
              0.3333333333333333,
              "#9c179e"
             ],
             [
              0.4444444444444444,
              "#bd3786"
             ],
             [
              0.5555555555555556,
              "#d8576b"
             ],
             [
              0.6666666666666666,
              "#ed7953"
             ],
             [
              0.7777777777777778,
              "#fb9f3a"
             ],
             [
              0.8888888888888888,
              "#fdca26"
             ],
             [
              1,
              "#f0f921"
             ]
            ],
            "type": "histogram2dcontour"
           }
          ],
          "mesh3d": [
           {
            "colorbar": {
             "outlinewidth": 0,
             "ticks": ""
            },
            "type": "mesh3d"
           }
          ],
          "parcoords": [
           {
            "line": {
             "colorbar": {
              "outlinewidth": 0,
              "ticks": ""
             }
            },
            "type": "parcoords"
           }
          ],
          "pie": [
           {
            "automargin": true,
            "type": "pie"
           }
          ],
          "scatter": [
           {
            "fillpattern": {
             "fillmode": "overlay",
             "size": 10,
             "solidity": 0.2
            },
            "type": "scatter"
           }
          ],
          "scatter3d": [
           {
            "line": {
             "colorbar": {
              "outlinewidth": 0,
              "ticks": ""
             }
            },
            "marker": {
             "colorbar": {
              "outlinewidth": 0,
              "ticks": ""
             }
            },
            "type": "scatter3d"
           }
          ],
          "scattercarpet": [
           {
            "marker": {
             "colorbar": {
              "outlinewidth": 0,
              "ticks": ""
             }
            },
            "type": "scattercarpet"
           }
          ],
          "scattergeo": [
           {
            "marker": {
             "colorbar": {
              "outlinewidth": 0,
              "ticks": ""
             }
            },
            "type": "scattergeo"
           }
          ],
          "scattergl": [
           {
            "marker": {
             "colorbar": {
              "outlinewidth": 0,
              "ticks": ""
             }
            },
            "type": "scattergl"
           }
          ],
          "scattermapbox": [
           {
            "marker": {
             "colorbar": {
              "outlinewidth": 0,
              "ticks": ""
             }
            },
            "type": "scattermapbox"
           }
          ],
          "scatterpolar": [
           {
            "marker": {
             "colorbar": {
              "outlinewidth": 0,
              "ticks": ""
             }
            },
            "type": "scatterpolar"
           }
          ],
          "scatterpolargl": [
           {
            "marker": {
             "colorbar": {
              "outlinewidth": 0,
              "ticks": ""
             }
            },
            "type": "scatterpolargl"
           }
          ],
          "scatterternary": [
           {
            "marker": {
             "colorbar": {
              "outlinewidth": 0,
              "ticks": ""
             }
            },
            "type": "scatterternary"
           }
          ],
          "surface": [
           {
            "colorbar": {
             "outlinewidth": 0,
             "ticks": ""
            },
            "colorscale": [
             [
              0,
              "#0d0887"
             ],
             [
              0.1111111111111111,
              "#46039f"
             ],
             [
              0.2222222222222222,
              "#7201a8"
             ],
             [
              0.3333333333333333,
              "#9c179e"
             ],
             [
              0.4444444444444444,
              "#bd3786"
             ],
             [
              0.5555555555555556,
              "#d8576b"
             ],
             [
              0.6666666666666666,
              "#ed7953"
             ],
             [
              0.7777777777777778,
              "#fb9f3a"
             ],
             [
              0.8888888888888888,
              "#fdca26"
             ],
             [
              1,
              "#f0f921"
             ]
            ],
            "type": "surface"
           }
          ],
          "table": [
           {
            "cells": {
             "fill": {
              "color": "#EBF0F8"
             },
             "line": {
              "color": "white"
             }
            },
            "header": {
             "fill": {
              "color": "#C8D4E3"
             },
             "line": {
              "color": "white"
             }
            },
            "type": "table"
           }
          ]
         },
         "layout": {
          "annotationdefaults": {
           "arrowcolor": "#2a3f5f",
           "arrowhead": 0,
           "arrowwidth": 1
          },
          "autotypenumbers": "strict",
          "coloraxis": {
           "colorbar": {
            "outlinewidth": 0,
            "ticks": ""
           }
          },
          "colorscale": {
           "diverging": [
            [
             0,
             "#8e0152"
            ],
            [
             0.1,
             "#c51b7d"
            ],
            [
             0.2,
             "#de77ae"
            ],
            [
             0.3,
             "#f1b6da"
            ],
            [
             0.4,
             "#fde0ef"
            ],
            [
             0.5,
             "#f7f7f7"
            ],
            [
             0.6,
             "#e6f5d0"
            ],
            [
             0.7,
             "#b8e186"
            ],
            [
             0.8,
             "#7fbc41"
            ],
            [
             0.9,
             "#4d9221"
            ],
            [
             1,
             "#276419"
            ]
           ],
           "sequential": [
            [
             0,
             "#0d0887"
            ],
            [
             0.1111111111111111,
             "#46039f"
            ],
            [
             0.2222222222222222,
             "#7201a8"
            ],
            [
             0.3333333333333333,
             "#9c179e"
            ],
            [
             0.4444444444444444,
             "#bd3786"
            ],
            [
             0.5555555555555556,
             "#d8576b"
            ],
            [
             0.6666666666666666,
             "#ed7953"
            ],
            [
             0.7777777777777778,
             "#fb9f3a"
            ],
            [
             0.8888888888888888,
             "#fdca26"
            ],
            [
             1,
             "#f0f921"
            ]
           ],
           "sequentialminus": [
            [
             0,
             "#0d0887"
            ],
            [
             0.1111111111111111,
             "#46039f"
            ],
            [
             0.2222222222222222,
             "#7201a8"
            ],
            [
             0.3333333333333333,
             "#9c179e"
            ],
            [
             0.4444444444444444,
             "#bd3786"
            ],
            [
             0.5555555555555556,
             "#d8576b"
            ],
            [
             0.6666666666666666,
             "#ed7953"
            ],
            [
             0.7777777777777778,
             "#fb9f3a"
            ],
            [
             0.8888888888888888,
             "#fdca26"
            ],
            [
             1,
             "#f0f921"
            ]
           ]
          },
          "colorway": [
           "#636efa",
           "#EF553B",
           "#00cc96",
           "#ab63fa",
           "#FFA15A",
           "#19d3f3",
           "#FF6692",
           "#B6E880",
           "#FF97FF",
           "#FECB52"
          ],
          "font": {
           "color": "#2a3f5f"
          },
          "geo": {
           "bgcolor": "white",
           "lakecolor": "white",
           "landcolor": "#E5ECF6",
           "showlakes": true,
           "showland": true,
           "subunitcolor": "white"
          },
          "hoverlabel": {
           "align": "left"
          },
          "hovermode": "closest",
          "mapbox": {
           "style": "light"
          },
          "paper_bgcolor": "white",
          "plot_bgcolor": "#E5ECF6",
          "polar": {
           "angularaxis": {
            "gridcolor": "white",
            "linecolor": "white",
            "ticks": ""
           },
           "bgcolor": "#E5ECF6",
           "radialaxis": {
            "gridcolor": "white",
            "linecolor": "white",
            "ticks": ""
           }
          },
          "scene": {
           "xaxis": {
            "backgroundcolor": "#E5ECF6",
            "gridcolor": "white",
            "gridwidth": 2,
            "linecolor": "white",
            "showbackground": true,
            "ticks": "",
            "zerolinecolor": "white"
           },
           "yaxis": {
            "backgroundcolor": "#E5ECF6",
            "gridcolor": "white",
            "gridwidth": 2,
            "linecolor": "white",
            "showbackground": true,
            "ticks": "",
            "zerolinecolor": "white"
           },
           "zaxis": {
            "backgroundcolor": "#E5ECF6",
            "gridcolor": "white",
            "gridwidth": 2,
            "linecolor": "white",
            "showbackground": true,
            "ticks": "",
            "zerolinecolor": "white"
           }
          },
          "shapedefaults": {
           "line": {
            "color": "#2a3f5f"
           }
          },
          "ternary": {
           "aaxis": {
            "gridcolor": "white",
            "linecolor": "white",
            "ticks": ""
           },
           "baxis": {
            "gridcolor": "white",
            "linecolor": "white",
            "ticks": ""
           },
           "bgcolor": "#E5ECF6",
           "caxis": {
            "gridcolor": "white",
            "linecolor": "white",
            "ticks": ""
           }
          },
          "title": {
           "x": 0.05
          },
          "xaxis": {
           "automargin": true,
           "gridcolor": "white",
           "linecolor": "white",
           "ticks": "",
           "title": {
            "standoff": 15
           },
           "zerolinecolor": "white",
           "zerolinewidth": 2
          },
          "yaxis": {
           "automargin": true,
           "gridcolor": "white",
           "linecolor": "white",
           "ticks": "",
           "title": {
            "standoff": 15
           },
           "zerolinecolor": "white",
           "zerolinewidth": 2
          }
         }
        },
        "title": {
         "text": "Variação (em reais) X Resultado"
        },
        "xaxis": {
         "anchor": "y",
         "domain": [
          0,
          1
         ],
         "title": {
          "text": "variacao_rs"
         }
        },
        "yaxis": {
         "anchor": "x",
         "domain": [
          0,
          1
         ],
         "title": {
          "text": "resultado"
         }
        }
       }
      }
     },
     "metadata": {},
     "output_type": "display_data"
    }
   ],
   "source": [
    "fig_analise_saldo = px.bar(df_analise_saldo, x='variacao_rs', y='resultado', text='variacao_rs', text_auto=',.2f', title='Variação (em reais) X Resultado')\n",
    "fig_analise_saldo.show()"
   ]
  },
  {
   "cell_type": "code",
   "execution_count": 94,
   "metadata": {},
   "outputs": [
    {
     "data": {
      "application/vnd.plotly.v1+json": {
       "config": {
        "plotlyServerURL": "https://plot.ly"
       },
       "data": [
        {
         "domain": {
          "x": [
           0,
           1
          ],
          "y": [
           0,
           1
          ]
         },
         "hovertemplate": "Segmento=%{label}<br>variacao_rs=%{value}<extra></extra>",
         "labels": [
          "Alimentos",
          "Banco",
          "Construção Civil",
          "Distribuição de Combustíveis",
          "Educação",
          "Energia Elétrica",
          "Energia/Açúcar",
          "Holding",
          "Logística",
          "Mineração",
          "Moda",
          "Papel e Celulose",
          "Petróleo",
          "Química",
          "Revestimentos Cerâmicos",
          "Saúde",
          "Serviços Financeiros",
          "Shopping Centers",
          "Siderurgia",
          "Tecnologia",
          "Telecomunicações",
          "Transporte Aéreo",
          "Varejo",
          "Varejo/Farmácia"
         ],
         "legendgroup": "",
         "name": "",
         "showlegend": true,
         "textinfo": "percent+label",
         "textposition": "inside",
         "type": "pie",
         "values": [
          407833683.0924499,
          3740512018.7834516,
          37525872.37728388,
          388705223.95601785,
          72295838.98616095,
          682315640.0120441,
          138800759.59923446,
          416092244.423763,
          233902674.79257408,
          4940442965.550434,
          41021792.09077153,
          722946282.7090385,
          6093288832.2628355,
          69054317.63603853,
          18068446.60998324,
          453917907.01324,
          43657683.37554085,
          117732680.0784251,
          489935930.9283229,
          15598886.650556229,
          292938114.42357796,
          65452205.552800186,
          34834535.49753806,
          202352473.73982856
         ]
        }
       ],
       "layout": {
        "legend": {
         "tracegroupgap": 0
        },
        "template": {
         "data": {
          "bar": [
           {
            "error_x": {
             "color": "#2a3f5f"
            },
            "error_y": {
             "color": "#2a3f5f"
            },
            "marker": {
             "line": {
              "color": "#E5ECF6",
              "width": 0.5
             },
             "pattern": {
              "fillmode": "overlay",
              "size": 10,
              "solidity": 0.2
             }
            },
            "type": "bar"
           }
          ],
          "barpolar": [
           {
            "marker": {
             "line": {
              "color": "#E5ECF6",
              "width": 0.5
             },
             "pattern": {
              "fillmode": "overlay",
              "size": 10,
              "solidity": 0.2
             }
            },
            "type": "barpolar"
           }
          ],
          "carpet": [
           {
            "aaxis": {
             "endlinecolor": "#2a3f5f",
             "gridcolor": "white",
             "linecolor": "white",
             "minorgridcolor": "white",
             "startlinecolor": "#2a3f5f"
            },
            "baxis": {
             "endlinecolor": "#2a3f5f",
             "gridcolor": "white",
             "linecolor": "white",
             "minorgridcolor": "white",
             "startlinecolor": "#2a3f5f"
            },
            "type": "carpet"
           }
          ],
          "choropleth": [
           {
            "colorbar": {
             "outlinewidth": 0,
             "ticks": ""
            },
            "type": "choropleth"
           }
          ],
          "contour": [
           {
            "colorbar": {
             "outlinewidth": 0,
             "ticks": ""
            },
            "colorscale": [
             [
              0,
              "#0d0887"
             ],
             [
              0.1111111111111111,
              "#46039f"
             ],
             [
              0.2222222222222222,
              "#7201a8"
             ],
             [
              0.3333333333333333,
              "#9c179e"
             ],
             [
              0.4444444444444444,
              "#bd3786"
             ],
             [
              0.5555555555555556,
              "#d8576b"
             ],
             [
              0.6666666666666666,
              "#ed7953"
             ],
             [
              0.7777777777777778,
              "#fb9f3a"
             ],
             [
              0.8888888888888888,
              "#fdca26"
             ],
             [
              1,
              "#f0f921"
             ]
            ],
            "type": "contour"
           }
          ],
          "contourcarpet": [
           {
            "colorbar": {
             "outlinewidth": 0,
             "ticks": ""
            },
            "type": "contourcarpet"
           }
          ],
          "heatmap": [
           {
            "colorbar": {
             "outlinewidth": 0,
             "ticks": ""
            },
            "colorscale": [
             [
              0,
              "#0d0887"
             ],
             [
              0.1111111111111111,
              "#46039f"
             ],
             [
              0.2222222222222222,
              "#7201a8"
             ],
             [
              0.3333333333333333,
              "#9c179e"
             ],
             [
              0.4444444444444444,
              "#bd3786"
             ],
             [
              0.5555555555555556,
              "#d8576b"
             ],
             [
              0.6666666666666666,
              "#ed7953"
             ],
             [
              0.7777777777777778,
              "#fb9f3a"
             ],
             [
              0.8888888888888888,
              "#fdca26"
             ],
             [
              1,
              "#f0f921"
             ]
            ],
            "type": "heatmap"
           }
          ],
          "heatmapgl": [
           {
            "colorbar": {
             "outlinewidth": 0,
             "ticks": ""
            },
            "colorscale": [
             [
              0,
              "#0d0887"
             ],
             [
              0.1111111111111111,
              "#46039f"
             ],
             [
              0.2222222222222222,
              "#7201a8"
             ],
             [
              0.3333333333333333,
              "#9c179e"
             ],
             [
              0.4444444444444444,
              "#bd3786"
             ],
             [
              0.5555555555555556,
              "#d8576b"
             ],
             [
              0.6666666666666666,
              "#ed7953"
             ],
             [
              0.7777777777777778,
              "#fb9f3a"
             ],
             [
              0.8888888888888888,
              "#fdca26"
             ],
             [
              1,
              "#f0f921"
             ]
            ],
            "type": "heatmapgl"
           }
          ],
          "histogram": [
           {
            "marker": {
             "pattern": {
              "fillmode": "overlay",
              "size": 10,
              "solidity": 0.2
             }
            },
            "type": "histogram"
           }
          ],
          "histogram2d": [
           {
            "colorbar": {
             "outlinewidth": 0,
             "ticks": ""
            },
            "colorscale": [
             [
              0,
              "#0d0887"
             ],
             [
              0.1111111111111111,
              "#46039f"
             ],
             [
              0.2222222222222222,
              "#7201a8"
             ],
             [
              0.3333333333333333,
              "#9c179e"
             ],
             [
              0.4444444444444444,
              "#bd3786"
             ],
             [
              0.5555555555555556,
              "#d8576b"
             ],
             [
              0.6666666666666666,
              "#ed7953"
             ],
             [
              0.7777777777777778,
              "#fb9f3a"
             ],
             [
              0.8888888888888888,
              "#fdca26"
             ],
             [
              1,
              "#f0f921"
             ]
            ],
            "type": "histogram2d"
           }
          ],
          "histogram2dcontour": [
           {
            "colorbar": {
             "outlinewidth": 0,
             "ticks": ""
            },
            "colorscale": [
             [
              0,
              "#0d0887"
             ],
             [
              0.1111111111111111,
              "#46039f"
             ],
             [
              0.2222222222222222,
              "#7201a8"
             ],
             [
              0.3333333333333333,
              "#9c179e"
             ],
             [
              0.4444444444444444,
              "#bd3786"
             ],
             [
              0.5555555555555556,
              "#d8576b"
             ],
             [
              0.6666666666666666,
              "#ed7953"
             ],
             [
              0.7777777777777778,
              "#fb9f3a"
             ],
             [
              0.8888888888888888,
              "#fdca26"
             ],
             [
              1,
              "#f0f921"
             ]
            ],
            "type": "histogram2dcontour"
           }
          ],
          "mesh3d": [
           {
            "colorbar": {
             "outlinewidth": 0,
             "ticks": ""
            },
            "type": "mesh3d"
           }
          ],
          "parcoords": [
           {
            "line": {
             "colorbar": {
              "outlinewidth": 0,
              "ticks": ""
             }
            },
            "type": "parcoords"
           }
          ],
          "pie": [
           {
            "automargin": true,
            "type": "pie"
           }
          ],
          "scatter": [
           {
            "fillpattern": {
             "fillmode": "overlay",
             "size": 10,
             "solidity": 0.2
            },
            "type": "scatter"
           }
          ],
          "scatter3d": [
           {
            "line": {
             "colorbar": {
              "outlinewidth": 0,
              "ticks": ""
             }
            },
            "marker": {
             "colorbar": {
              "outlinewidth": 0,
              "ticks": ""
             }
            },
            "type": "scatter3d"
           }
          ],
          "scattercarpet": [
           {
            "marker": {
             "colorbar": {
              "outlinewidth": 0,
              "ticks": ""
             }
            },
            "type": "scattercarpet"
           }
          ],
          "scattergeo": [
           {
            "marker": {
             "colorbar": {
              "outlinewidth": 0,
              "ticks": ""
             }
            },
            "type": "scattergeo"
           }
          ],
          "scattergl": [
           {
            "marker": {
             "colorbar": {
              "outlinewidth": 0,
              "ticks": ""
             }
            },
            "type": "scattergl"
           }
          ],
          "scattermapbox": [
           {
            "marker": {
             "colorbar": {
              "outlinewidth": 0,
              "ticks": ""
             }
            },
            "type": "scattermapbox"
           }
          ],
          "scatterpolar": [
           {
            "marker": {
             "colorbar": {
              "outlinewidth": 0,
              "ticks": ""
             }
            },
            "type": "scatterpolar"
           }
          ],
          "scatterpolargl": [
           {
            "marker": {
             "colorbar": {
              "outlinewidth": 0,
              "ticks": ""
             }
            },
            "type": "scatterpolargl"
           }
          ],
          "scatterternary": [
           {
            "marker": {
             "colorbar": {
              "outlinewidth": 0,
              "ticks": ""
             }
            },
            "type": "scatterternary"
           }
          ],
          "surface": [
           {
            "colorbar": {
             "outlinewidth": 0,
             "ticks": ""
            },
            "colorscale": [
             [
              0,
              "#0d0887"
             ],
             [
              0.1111111111111111,
              "#46039f"
             ],
             [
              0.2222222222222222,
              "#7201a8"
             ],
             [
              0.3333333333333333,
              "#9c179e"
             ],
             [
              0.4444444444444444,
              "#bd3786"
             ],
             [
              0.5555555555555556,
              "#d8576b"
             ],
             [
              0.6666666666666666,
              "#ed7953"
             ],
             [
              0.7777777777777778,
              "#fb9f3a"
             ],
             [
              0.8888888888888888,
              "#fdca26"
             ],
             [
              1,
              "#f0f921"
             ]
            ],
            "type": "surface"
           }
          ],
          "table": [
           {
            "cells": {
             "fill": {
              "color": "#EBF0F8"
             },
             "line": {
              "color": "white"
             }
            },
            "header": {
             "fill": {
              "color": "#C8D4E3"
             },
             "line": {
              "color": "white"
             }
            },
            "type": "table"
           }
          ]
         },
         "layout": {
          "annotationdefaults": {
           "arrowcolor": "#2a3f5f",
           "arrowhead": 0,
           "arrowwidth": 1
          },
          "autotypenumbers": "strict",
          "coloraxis": {
           "colorbar": {
            "outlinewidth": 0,
            "ticks": ""
           }
          },
          "colorscale": {
           "diverging": [
            [
             0,
             "#8e0152"
            ],
            [
             0.1,
             "#c51b7d"
            ],
            [
             0.2,
             "#de77ae"
            ],
            [
             0.3,
             "#f1b6da"
            ],
            [
             0.4,
             "#fde0ef"
            ],
            [
             0.5,
             "#f7f7f7"
            ],
            [
             0.6,
             "#e6f5d0"
            ],
            [
             0.7,
             "#b8e186"
            ],
            [
             0.8,
             "#7fbc41"
            ],
            [
             0.9,
             "#4d9221"
            ],
            [
             1,
             "#276419"
            ]
           ],
           "sequential": [
            [
             0,
             "#0d0887"
            ],
            [
             0.1111111111111111,
             "#46039f"
            ],
            [
             0.2222222222222222,
             "#7201a8"
            ],
            [
             0.3333333333333333,
             "#9c179e"
            ],
            [
             0.4444444444444444,
             "#bd3786"
            ],
            [
             0.5555555555555556,
             "#d8576b"
            ],
            [
             0.6666666666666666,
             "#ed7953"
            ],
            [
             0.7777777777777778,
             "#fb9f3a"
            ],
            [
             0.8888888888888888,
             "#fdca26"
            ],
            [
             1,
             "#f0f921"
            ]
           ],
           "sequentialminus": [
            [
             0,
             "#0d0887"
            ],
            [
             0.1111111111111111,
             "#46039f"
            ],
            [
             0.2222222222222222,
             "#7201a8"
            ],
            [
             0.3333333333333333,
             "#9c179e"
            ],
            [
             0.4444444444444444,
             "#bd3786"
            ],
            [
             0.5555555555555556,
             "#d8576b"
            ],
            [
             0.6666666666666666,
             "#ed7953"
            ],
            [
             0.7777777777777778,
             "#fb9f3a"
            ],
            [
             0.8888888888888888,
             "#fdca26"
            ],
            [
             1,
             "#f0f921"
            ]
           ]
          },
          "colorway": [
           "#636efa",
           "#EF553B",
           "#00cc96",
           "#ab63fa",
           "#FFA15A",
           "#19d3f3",
           "#FF6692",
           "#B6E880",
           "#FF97FF",
           "#FECB52"
          ],
          "font": {
           "color": "#2a3f5f"
          },
          "geo": {
           "bgcolor": "white",
           "lakecolor": "white",
           "landcolor": "#E5ECF6",
           "showlakes": true,
           "showland": true,
           "subunitcolor": "white"
          },
          "hoverlabel": {
           "align": "left"
          },
          "hovermode": "closest",
          "mapbox": {
           "style": "light"
          },
          "paper_bgcolor": "white",
          "plot_bgcolor": "#E5ECF6",
          "polar": {
           "angularaxis": {
            "gridcolor": "white",
            "linecolor": "white",
            "ticks": ""
           },
           "bgcolor": "#E5ECF6",
           "radialaxis": {
            "gridcolor": "white",
            "linecolor": "white",
            "ticks": ""
           }
          },
          "scene": {
           "xaxis": {
            "backgroundcolor": "#E5ECF6",
            "gridcolor": "white",
            "gridwidth": 2,
            "linecolor": "white",
            "showbackground": true,
            "ticks": "",
            "zerolinecolor": "white"
           },
           "yaxis": {
            "backgroundcolor": "#E5ECF6",
            "gridcolor": "white",
            "gridwidth": 2,
            "linecolor": "white",
            "showbackground": true,
            "ticks": "",
            "zerolinecolor": "white"
           },
           "zaxis": {
            "backgroundcolor": "#E5ECF6",
            "gridcolor": "white",
            "gridwidth": 2,
            "linecolor": "white",
            "showbackground": true,
            "ticks": "",
            "zerolinecolor": "white"
           }
          },
          "shapedefaults": {
           "line": {
            "color": "#2a3f5f"
           }
          },
          "ternary": {
           "aaxis": {
            "gridcolor": "white",
            "linecolor": "white",
            "ticks": ""
           },
           "baxis": {
            "gridcolor": "white",
            "linecolor": "white",
            "ticks": ""
           },
           "bgcolor": "#E5ECF6",
           "caxis": {
            "gridcolor": "white",
            "linecolor": "white",
            "ticks": ""
           }
          },
          "title": {
           "x": 0.05
          },
          "xaxis": {
           "automargin": true,
           "gridcolor": "white",
           "linecolor": "white",
           "ticks": "",
           "title": {
            "standoff": 15
           },
           "zerolinecolor": "white",
           "zerolinewidth": 2
          },
          "yaxis": {
           "automargin": true,
           "gridcolor": "white",
           "linecolor": "white",
           "ticks": "",
           "title": {
            "standoff": 15
           },
           "zerolinecolor": "white",
           "zerolinewidth": 2
          }
         }
        },
        "title": {
         "text": "Variação de quem subiu por segmento (em reais)"
        }
       }
      }
     },
     "metadata": {},
     "output_type": "display_data"
    }
   ],
   "source": [
    "fig_analise_segmento = px.pie(df_analise_segmento, names='Segmento', values='variacao_rs', title='Variação de quem subiu por segmento (em reais)').update_traces(textposition='inside', textinfo='percent+label')\n",
    "fig_analise_segmento.show()"
   ]
  },
  {
   "cell_type": "code",
   "execution_count": 97,
   "metadata": {},
   "outputs": [
    {
     "data": {
      "text/html": [
       "<div>\n",
       "<style scoped>\n",
       "    .dataframe tbody tr th:only-of-type {\n",
       "        vertical-align: middle;\n",
       "    }\n",
       "\n",
       "    .dataframe tbody tr th {\n",
       "        vertical-align: top;\n",
       "    }\n",
       "\n",
       "    .dataframe thead th {\n",
       "        text-align: right;\n",
       "    }\n",
       "</style>\n",
       "<table border=\"1\" class=\"dataframe\">\n",
       "  <thead>\n",
       "    <tr style=\"text-align: right;\">\n",
       "      <th></th>\n",
       "      <th>faixa_idade</th>\n",
       "      <th>variacao_rs</th>\n",
       "    </tr>\n",
       "  </thead>\n",
       "  <tbody>\n",
       "    <tr>\n",
       "      <th>0</th>\n",
       "      <td>abaixo_50</td>\n",
       "      <td>686053169.68</td>\n",
       "    </tr>\n",
       "    <tr>\n",
       "      <th>1</th>\n",
       "      <td>acima_100</td>\n",
       "      <td>619545989.86</td>\n",
       "    </tr>\n",
       "    <tr>\n",
       "      <th>2</th>\n",
       "      <td>entre_50_100</td>\n",
       "      <td>12074807889.29</td>\n",
       "    </tr>\n",
       "  </tbody>\n",
       "</table>\n",
       "</div>"
      ],
      "text/plain": [
       "    faixa_idade    variacao_rs\n",
       "0     abaixo_50   686053169.68\n",
       "1     acima_100   619545989.86\n",
       "2  entre_50_100 12074807889.29"
      ]
     },
     "execution_count": 97,
     "metadata": {},
     "output_type": "execute_result"
    }
   ],
   "source": [
    "df_principal['faixa_idade'] = df_principal['idade'].apply(lambda x: 'acima_100' if x > 100 else 'abaixo_50' if x < 50 else 'entre_50_100')\n",
    "df_analise_faixa_etaria = df_principal.groupby('faixa_idade')['variacao_rs'].sum().reset_index()\n",
    "df_analise_faixa_etaria"
   ]
  },
  {
   "cell_type": "code",
   "execution_count": 100,
   "metadata": {},
   "outputs": [
    {
     "data": {
      "application/vnd.plotly.v1+json": {
       "config": {
        "plotlyServerURL": "https://plot.ly"
       },
       "data": [
        {
         "alignmentgroup": "True",
         "hovertemplate": "faixa_idade=%{x}<br>variacao_rs=%{text}<extra></extra>",
         "legendgroup": "",
         "marker": {
          "color": "#636efa",
          "pattern": {
           "shape": ""
          }
         },
         "name": "",
         "offsetgroup": "",
         "orientation": "v",
         "showlegend": false,
         "text": [
          686053169.684358,
          619545989.855691,
          12074807889.286512
         ],
         "textposition": "auto",
         "texttemplate": "%{y:,.2f}",
         "type": "bar",
         "x": [
          "abaixo_50",
          "acima_100",
          "entre_50_100"
         ],
         "xaxis": "x",
         "y": [
          686053169.684358,
          619545989.855691,
          12074807889.286512
         ],
         "yaxis": "y"
        }
       ],
       "layout": {
        "barmode": "relative",
        "legend": {
         "tracegroupgap": 0
        },
        "template": {
         "data": {
          "bar": [
           {
            "error_x": {
             "color": "#2a3f5f"
            },
            "error_y": {
             "color": "#2a3f5f"
            },
            "marker": {
             "line": {
              "color": "#E5ECF6",
              "width": 0.5
             },
             "pattern": {
              "fillmode": "overlay",
              "size": 10,
              "solidity": 0.2
             }
            },
            "type": "bar"
           }
          ],
          "barpolar": [
           {
            "marker": {
             "line": {
              "color": "#E5ECF6",
              "width": 0.5
             },
             "pattern": {
              "fillmode": "overlay",
              "size": 10,
              "solidity": 0.2
             }
            },
            "type": "barpolar"
           }
          ],
          "carpet": [
           {
            "aaxis": {
             "endlinecolor": "#2a3f5f",
             "gridcolor": "white",
             "linecolor": "white",
             "minorgridcolor": "white",
             "startlinecolor": "#2a3f5f"
            },
            "baxis": {
             "endlinecolor": "#2a3f5f",
             "gridcolor": "white",
             "linecolor": "white",
             "minorgridcolor": "white",
             "startlinecolor": "#2a3f5f"
            },
            "type": "carpet"
           }
          ],
          "choropleth": [
           {
            "colorbar": {
             "outlinewidth": 0,
             "ticks": ""
            },
            "type": "choropleth"
           }
          ],
          "contour": [
           {
            "colorbar": {
             "outlinewidth": 0,
             "ticks": ""
            },
            "colorscale": [
             [
              0,
              "#0d0887"
             ],
             [
              0.1111111111111111,
              "#46039f"
             ],
             [
              0.2222222222222222,
              "#7201a8"
             ],
             [
              0.3333333333333333,
              "#9c179e"
             ],
             [
              0.4444444444444444,
              "#bd3786"
             ],
             [
              0.5555555555555556,
              "#d8576b"
             ],
             [
              0.6666666666666666,
              "#ed7953"
             ],
             [
              0.7777777777777778,
              "#fb9f3a"
             ],
             [
              0.8888888888888888,
              "#fdca26"
             ],
             [
              1,
              "#f0f921"
             ]
            ],
            "type": "contour"
           }
          ],
          "contourcarpet": [
           {
            "colorbar": {
             "outlinewidth": 0,
             "ticks": ""
            },
            "type": "contourcarpet"
           }
          ],
          "heatmap": [
           {
            "colorbar": {
             "outlinewidth": 0,
             "ticks": ""
            },
            "colorscale": [
             [
              0,
              "#0d0887"
             ],
             [
              0.1111111111111111,
              "#46039f"
             ],
             [
              0.2222222222222222,
              "#7201a8"
             ],
             [
              0.3333333333333333,
              "#9c179e"
             ],
             [
              0.4444444444444444,
              "#bd3786"
             ],
             [
              0.5555555555555556,
              "#d8576b"
             ],
             [
              0.6666666666666666,
              "#ed7953"
             ],
             [
              0.7777777777777778,
              "#fb9f3a"
             ],
             [
              0.8888888888888888,
              "#fdca26"
             ],
             [
              1,
              "#f0f921"
             ]
            ],
            "type": "heatmap"
           }
          ],
          "heatmapgl": [
           {
            "colorbar": {
             "outlinewidth": 0,
             "ticks": ""
            },
            "colorscale": [
             [
              0,
              "#0d0887"
             ],
             [
              0.1111111111111111,
              "#46039f"
             ],
             [
              0.2222222222222222,
              "#7201a8"
             ],
             [
              0.3333333333333333,
              "#9c179e"
             ],
             [
              0.4444444444444444,
              "#bd3786"
             ],
             [
              0.5555555555555556,
              "#d8576b"
             ],
             [
              0.6666666666666666,
              "#ed7953"
             ],
             [
              0.7777777777777778,
              "#fb9f3a"
             ],
             [
              0.8888888888888888,
              "#fdca26"
             ],
             [
              1,
              "#f0f921"
             ]
            ],
            "type": "heatmapgl"
           }
          ],
          "histogram": [
           {
            "marker": {
             "pattern": {
              "fillmode": "overlay",
              "size": 10,
              "solidity": 0.2
             }
            },
            "type": "histogram"
           }
          ],
          "histogram2d": [
           {
            "colorbar": {
             "outlinewidth": 0,
             "ticks": ""
            },
            "colorscale": [
             [
              0,
              "#0d0887"
             ],
             [
              0.1111111111111111,
              "#46039f"
             ],
             [
              0.2222222222222222,
              "#7201a8"
             ],
             [
              0.3333333333333333,
              "#9c179e"
             ],
             [
              0.4444444444444444,
              "#bd3786"
             ],
             [
              0.5555555555555556,
              "#d8576b"
             ],
             [
              0.6666666666666666,
              "#ed7953"
             ],
             [
              0.7777777777777778,
              "#fb9f3a"
             ],
             [
              0.8888888888888888,
              "#fdca26"
             ],
             [
              1,
              "#f0f921"
             ]
            ],
            "type": "histogram2d"
           }
          ],
          "histogram2dcontour": [
           {
            "colorbar": {
             "outlinewidth": 0,
             "ticks": ""
            },
            "colorscale": [
             [
              0,
              "#0d0887"
             ],
             [
              0.1111111111111111,
              "#46039f"
             ],
             [
              0.2222222222222222,
              "#7201a8"
             ],
             [
              0.3333333333333333,
              "#9c179e"
             ],
             [
              0.4444444444444444,
              "#bd3786"
             ],
             [
              0.5555555555555556,
              "#d8576b"
             ],
             [
              0.6666666666666666,
              "#ed7953"
             ],
             [
              0.7777777777777778,
              "#fb9f3a"
             ],
             [
              0.8888888888888888,
              "#fdca26"
             ],
             [
              1,
              "#f0f921"
             ]
            ],
            "type": "histogram2dcontour"
           }
          ],
          "mesh3d": [
           {
            "colorbar": {
             "outlinewidth": 0,
             "ticks": ""
            },
            "type": "mesh3d"
           }
          ],
          "parcoords": [
           {
            "line": {
             "colorbar": {
              "outlinewidth": 0,
              "ticks": ""
             }
            },
            "type": "parcoords"
           }
          ],
          "pie": [
           {
            "automargin": true,
            "type": "pie"
           }
          ],
          "scatter": [
           {
            "fillpattern": {
             "fillmode": "overlay",
             "size": 10,
             "solidity": 0.2
            },
            "type": "scatter"
           }
          ],
          "scatter3d": [
           {
            "line": {
             "colorbar": {
              "outlinewidth": 0,
              "ticks": ""
             }
            },
            "marker": {
             "colorbar": {
              "outlinewidth": 0,
              "ticks": ""
             }
            },
            "type": "scatter3d"
           }
          ],
          "scattercarpet": [
           {
            "marker": {
             "colorbar": {
              "outlinewidth": 0,
              "ticks": ""
             }
            },
            "type": "scattercarpet"
           }
          ],
          "scattergeo": [
           {
            "marker": {
             "colorbar": {
              "outlinewidth": 0,
              "ticks": ""
             }
            },
            "type": "scattergeo"
           }
          ],
          "scattergl": [
           {
            "marker": {
             "colorbar": {
              "outlinewidth": 0,
              "ticks": ""
             }
            },
            "type": "scattergl"
           }
          ],
          "scattermapbox": [
           {
            "marker": {
             "colorbar": {
              "outlinewidth": 0,
              "ticks": ""
             }
            },
            "type": "scattermapbox"
           }
          ],
          "scatterpolar": [
           {
            "marker": {
             "colorbar": {
              "outlinewidth": 0,
              "ticks": ""
             }
            },
            "type": "scatterpolar"
           }
          ],
          "scatterpolargl": [
           {
            "marker": {
             "colorbar": {
              "outlinewidth": 0,
              "ticks": ""
             }
            },
            "type": "scatterpolargl"
           }
          ],
          "scatterternary": [
           {
            "marker": {
             "colorbar": {
              "outlinewidth": 0,
              "ticks": ""
             }
            },
            "type": "scatterternary"
           }
          ],
          "surface": [
           {
            "colorbar": {
             "outlinewidth": 0,
             "ticks": ""
            },
            "colorscale": [
             [
              0,
              "#0d0887"
             ],
             [
              0.1111111111111111,
              "#46039f"
             ],
             [
              0.2222222222222222,
              "#7201a8"
             ],
             [
              0.3333333333333333,
              "#9c179e"
             ],
             [
              0.4444444444444444,
              "#bd3786"
             ],
             [
              0.5555555555555556,
              "#d8576b"
             ],
             [
              0.6666666666666666,
              "#ed7953"
             ],
             [
              0.7777777777777778,
              "#fb9f3a"
             ],
             [
              0.8888888888888888,
              "#fdca26"
             ],
             [
              1,
              "#f0f921"
             ]
            ],
            "type": "surface"
           }
          ],
          "table": [
           {
            "cells": {
             "fill": {
              "color": "#EBF0F8"
             },
             "line": {
              "color": "white"
             }
            },
            "header": {
             "fill": {
              "color": "#C8D4E3"
             },
             "line": {
              "color": "white"
             }
            },
            "type": "table"
           }
          ]
         },
         "layout": {
          "annotationdefaults": {
           "arrowcolor": "#2a3f5f",
           "arrowhead": 0,
           "arrowwidth": 1
          },
          "autotypenumbers": "strict",
          "coloraxis": {
           "colorbar": {
            "outlinewidth": 0,
            "ticks": ""
           }
          },
          "colorscale": {
           "diverging": [
            [
             0,
             "#8e0152"
            ],
            [
             0.1,
             "#c51b7d"
            ],
            [
             0.2,
             "#de77ae"
            ],
            [
             0.3,
             "#f1b6da"
            ],
            [
             0.4,
             "#fde0ef"
            ],
            [
             0.5,
             "#f7f7f7"
            ],
            [
             0.6,
             "#e6f5d0"
            ],
            [
             0.7,
             "#b8e186"
            ],
            [
             0.8,
             "#7fbc41"
            ],
            [
             0.9,
             "#4d9221"
            ],
            [
             1,
             "#276419"
            ]
           ],
           "sequential": [
            [
             0,
             "#0d0887"
            ],
            [
             0.1111111111111111,
             "#46039f"
            ],
            [
             0.2222222222222222,
             "#7201a8"
            ],
            [
             0.3333333333333333,
             "#9c179e"
            ],
            [
             0.4444444444444444,
             "#bd3786"
            ],
            [
             0.5555555555555556,
             "#d8576b"
            ],
            [
             0.6666666666666666,
             "#ed7953"
            ],
            [
             0.7777777777777778,
             "#fb9f3a"
            ],
            [
             0.8888888888888888,
             "#fdca26"
            ],
            [
             1,
             "#f0f921"
            ]
           ],
           "sequentialminus": [
            [
             0,
             "#0d0887"
            ],
            [
             0.1111111111111111,
             "#46039f"
            ],
            [
             0.2222222222222222,
             "#7201a8"
            ],
            [
             0.3333333333333333,
             "#9c179e"
            ],
            [
             0.4444444444444444,
             "#bd3786"
            ],
            [
             0.5555555555555556,
             "#d8576b"
            ],
            [
             0.6666666666666666,
             "#ed7953"
            ],
            [
             0.7777777777777778,
             "#fb9f3a"
            ],
            [
             0.8888888888888888,
             "#fdca26"
            ],
            [
             1,
             "#f0f921"
            ]
           ]
          },
          "colorway": [
           "#636efa",
           "#EF553B",
           "#00cc96",
           "#ab63fa",
           "#FFA15A",
           "#19d3f3",
           "#FF6692",
           "#B6E880",
           "#FF97FF",
           "#FECB52"
          ],
          "font": {
           "color": "#2a3f5f"
          },
          "geo": {
           "bgcolor": "white",
           "lakecolor": "white",
           "landcolor": "#E5ECF6",
           "showlakes": true,
           "showland": true,
           "subunitcolor": "white"
          },
          "hoverlabel": {
           "align": "left"
          },
          "hovermode": "closest",
          "mapbox": {
           "style": "light"
          },
          "paper_bgcolor": "white",
          "plot_bgcolor": "#E5ECF6",
          "polar": {
           "angularaxis": {
            "gridcolor": "white",
            "linecolor": "white",
            "ticks": ""
           },
           "bgcolor": "#E5ECF6",
           "radialaxis": {
            "gridcolor": "white",
            "linecolor": "white",
            "ticks": ""
           }
          },
          "scene": {
           "xaxis": {
            "backgroundcolor": "#E5ECF6",
            "gridcolor": "white",
            "gridwidth": 2,
            "linecolor": "white",
            "showbackground": true,
            "ticks": "",
            "zerolinecolor": "white"
           },
           "yaxis": {
            "backgroundcolor": "#E5ECF6",
            "gridcolor": "white",
            "gridwidth": 2,
            "linecolor": "white",
            "showbackground": true,
            "ticks": "",
            "zerolinecolor": "white"
           },
           "zaxis": {
            "backgroundcolor": "#E5ECF6",
            "gridcolor": "white",
            "gridwidth": 2,
            "linecolor": "white",
            "showbackground": true,
            "ticks": "",
            "zerolinecolor": "white"
           }
          },
          "shapedefaults": {
           "line": {
            "color": "#2a3f5f"
           }
          },
          "ternary": {
           "aaxis": {
            "gridcolor": "white",
            "linecolor": "white",
            "ticks": ""
           },
           "baxis": {
            "gridcolor": "white",
            "linecolor": "white",
            "ticks": ""
           },
           "bgcolor": "#E5ECF6",
           "caxis": {
            "gridcolor": "white",
            "linecolor": "white",
            "ticks": ""
           }
          },
          "title": {
           "x": 0.05
          },
          "xaxis": {
           "automargin": true,
           "gridcolor": "white",
           "linecolor": "white",
           "ticks": "",
           "title": {
            "standoff": 15
           },
           "zerolinecolor": "white",
           "zerolinewidth": 2
          },
          "yaxis": {
           "automargin": true,
           "gridcolor": "white",
           "linecolor": "white",
           "ticks": "",
           "title": {
            "standoff": 15
           },
           "zerolinecolor": "white",
           "zerolinewidth": 2
          }
         }
        },
        "title": {
         "text": "Variação (em reais) por faixa etária de empresas que subiram"
        },
        "xaxis": {
         "anchor": "y",
         "domain": [
          0,
          1
         ],
         "title": {
          "text": "faixa_idade"
         }
        },
        "yaxis": {
         "anchor": "x",
         "domain": [
          0,
          1
         ],
         "title": {
          "text": "variacao_rs"
         }
        }
       }
      }
     },
     "metadata": {},
     "output_type": "display_data"
    }
   ],
   "source": [
    "fig_analise_faixa_idade = px.bar(df_analise_faixa_etaria, x='faixa_idade', y='variacao_rs', title='Variação (em reais) por faixa etária de empresas que subiram', text='variacao_rs', text_auto=',.2f')\n",
    "fig_analise_faixa_idade"
   ]
  }
 ],
 "metadata": {
  "kernelspec": {
   "display_name": ".venv",
   "language": "python",
   "name": "python3"
  },
  "language_info": {
   "codemirror_mode": {
    "name": "ipython",
    "version": 3
   },
   "file_extension": ".py",
   "mimetype": "text/x-python",
   "name": "python",
   "nbconvert_exporter": "python",
   "pygments_lexer": "ipython3",
   "version": "3.12.2"
  }
 },
 "nbformat": 4,
 "nbformat_minor": 2
}
